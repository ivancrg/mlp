{
 "cells": [
  {
   "cell_type": "code",
   "execution_count": 1,
   "metadata": {},
   "outputs": [],
   "source": [
    "import pandas as pd\n",
    "from sklearn.ensemble import RandomForestClassifier\n",
    "from sklearn.metrics import accuracy_score\n",
    "from sklearn.model_selection import train_test_split\n",
    "from mlp_keras import MLP\n",
    "import tensorflow as tf\n",
    "import matplotlib.pyplot as plt"
   ]
  },
  {
   "cell_type": "code",
   "execution_count": 2,
   "metadata": {},
   "outputs": [
    {
     "name": "stdout",
     "output_type": "stream",
     "text": [
      "   Age at Operation  Gender  Days Abdominal Pain  Temperature  Tenderness  \\\n",
      "0                15       1                    1         36.9           0   \n",
      "1                14       0                    2         37.0           0   \n",
      "2                16       0                    0         36.9           1   \n",
      "3                14       0                    1         35.7           1   \n",
      "4                16       1                    7         37.9           0   \n",
      "\n",
      "   Leukos [10^9/l]  CRP [mg/l]  No of Sonographies  Diameter Appendix [mm]  \n",
      "0            11.10         6.0                 1.0                     8.0  \n",
      "1            21.28        30.8                 1.0                    10.0  \n",
      "2            13.07         1.9                 1.0                     8.0  \n",
      "3             7.95         0.0                 2.0                     4.0  \n",
      "4            14.82        14.4                 3.0                     8.0  \n",
      "0    0\n",
      "1    1\n",
      "2    0\n",
      "3    0\n",
      "4    0\n",
      "Name: Postoperative Diagnosis, dtype: int64\n",
      "['Age at Operation', 'Gender', 'Days Abdominal Pain', 'Temperature', 'Tenderness', 'Leukos [10^9/l]', 'CRP [mg/l]', 'No of Sonographies', 'Diameter Appendix [mm]']\n",
      "['Postoperative Diagnosis']\n"
     ]
    }
   ],
   "source": [
    "folder = '../report/NO_OS/postop_binary'\n",
    "file = '/data.csv'\n",
    "\n",
    "data = pd.read_csv(folder + file)\n",
    "\n",
    "X, y = data.iloc[:,:-1], data.iloc[:, -1]\n",
    "feature_names, target_names = data.columns[:-1].to_list(), data.columns[-1:].to_list()\n",
    "\n",
    "print(X[:5])\n",
    "print(y[:5])\n",
    "print(feature_names)\n",
    "print(target_names)"
   ]
  },
  {
   "cell_type": "code",
   "execution_count": 3,
   "metadata": {},
   "outputs": [],
   "source": [
    "X_train, X_test, y_train, y_test = train_test_split(X, y, test_size=0.2, random_state=42)\n",
    "train_df, test_df = train_test_split(data, test_size=0.2, random_state=42)"
   ]
  },
  {
   "cell_type": "code",
   "execution_count": 4,
   "metadata": {},
   "outputs": [
    {
     "data": {
      "text/plain": [
       "0.9064748201438849"
      ]
     },
     "execution_count": 4,
     "metadata": {},
     "output_type": "execute_result"
    }
   ],
   "source": [
    "lr = RandomForestClassifier(n_estimators=100, random_state=42)\n",
    "lr.fit(X_train, y_train)\n",
    "accuracy_score(y_test, lr.predict(X_test))"
   ]
  },
  {
   "cell_type": "code",
   "execution_count": 5,
   "metadata": {},
   "outputs": [
    {
     "name": "stdout",
     "output_type": "stream",
     "text": [
      "Epoch 1/300\n",
      "28/28 [==============================] - 4s 30ms/step - loss: 4.2607 - accuracy: 0.7410 - val_loss: 0.4445 - val_accuracy: 0.8304 - lr: 0.0100\n",
      "Epoch 2/300\n",
      "28/28 [==============================] - 0s 10ms/step - loss: 0.4369 - accuracy: 0.8198 - val_loss: 0.4419 - val_accuracy: 0.8125 - lr: 0.0100\n",
      "Epoch 3/300\n",
      "28/28 [==============================] - 0s 9ms/step - loss: 0.3779 - accuracy: 0.8311 - val_loss: 0.5114 - val_accuracy: 0.8393 - lr: 0.0100\n",
      "Epoch 4/300\n",
      "28/28 [==============================] - 0s 12ms/step - loss: 0.4172 - accuracy: 0.8581 - val_loss: 0.4118 - val_accuracy: 0.8304 - lr: 0.0100\n",
      "Epoch 5/300\n",
      "28/28 [==============================] - 0s 10ms/step - loss: 0.4041 - accuracy: 0.8311 - val_loss: 0.4050 - val_accuracy: 0.8393 - lr: 0.0100\n",
      "Epoch 6/300\n",
      "28/28 [==============================] - 0s 9ms/step - loss: 0.3434 - accuracy: 0.8671 - val_loss: 0.3999 - val_accuracy: 0.8304 - lr: 0.0100\n",
      "Epoch 7/300\n",
      "28/28 [==============================] - 0s 9ms/step - loss: 0.3981 - accuracy: 0.8221 - val_loss: 0.6325 - val_accuracy: 0.8393 - lr: 0.0100\n",
      "Epoch 8/300\n",
      "28/28 [==============================] - 0s 11ms/step - loss: 0.3925 - accuracy: 0.8559 - val_loss: 0.5466 - val_accuracy: 0.8482 - lr: 0.0100\n",
      "Epoch 9/300\n",
      "28/28 [==============================] - 0s 11ms/step - loss: 0.3667 - accuracy: 0.8446 - val_loss: 0.4626 - val_accuracy: 0.8304 - lr: 0.0100\n",
      "Epoch 10/300\n",
      "28/28 [==============================] - 0s 9ms/step - loss: 0.3554 - accuracy: 0.8288 - val_loss: 0.3984 - val_accuracy: 0.8482 - lr: 0.0100\n",
      "Epoch 11/300\n",
      "28/28 [==============================] - 0s 11ms/step - loss: 0.3501 - accuracy: 0.8378 - val_loss: 0.4959 - val_accuracy: 0.8304 - lr: 0.0100\n",
      "Epoch 12/300\n",
      "28/28 [==============================] - 0s 10ms/step - loss: 0.3757 - accuracy: 0.8559 - val_loss: 0.4155 - val_accuracy: 0.8304 - lr: 0.0100\n",
      "Epoch 13/300\n",
      "28/28 [==============================] - 0s 11ms/step - loss: 0.3555 - accuracy: 0.8446 - val_loss: 0.4391 - val_accuracy: 0.8304 - lr: 0.0100\n",
      "Epoch 14/300\n",
      "28/28 [==============================] - 0s 10ms/step - loss: 0.4067 - accuracy: 0.8176 - val_loss: 0.4258 - val_accuracy: 0.8393 - lr: 0.0100\n",
      "Epoch 15/300\n",
      "28/28 [==============================] - 0s 13ms/step - loss: 0.4185 - accuracy: 0.8198 - val_loss: 0.4345 - val_accuracy: 0.8036 - lr: 0.0100\n",
      "Epoch 16/300\n",
      "28/28 [==============================] - 0s 13ms/step - loss: 0.3910 - accuracy: 0.8018 - val_loss: 0.4422 - val_accuracy: 0.8036 - lr: 0.0020\n",
      "Epoch 17/300\n",
      "28/28 [==============================] - 0s 11ms/step - loss: 0.3671 - accuracy: 0.8041 - val_loss: 0.4403 - val_accuracy: 0.8036 - lr: 0.0020\n",
      "Epoch 18/300\n",
      "28/28 [==============================] - 0s 14ms/step - loss: 0.3546 - accuracy: 0.8176 - val_loss: 0.4230 - val_accuracy: 0.8482 - lr: 0.0020\n",
      "Epoch 19/300\n",
      "28/28 [==============================] - 0s 10ms/step - loss: 0.3337 - accuracy: 0.8716 - val_loss: 0.3986 - val_accuracy: 0.8393 - lr: 0.0020\n",
      "Epoch 20/300\n",
      "28/28 [==============================] - 0s 11ms/step - loss: 0.3344 - accuracy: 0.8694 - val_loss: 0.3978 - val_accuracy: 0.8571 - lr: 0.0020\n",
      "Epoch 21/300\n",
      "28/28 [==============================] - 0s 9ms/step - loss: 0.3393 - accuracy: 0.8604 - val_loss: 0.3910 - val_accuracy: 0.8482 - lr: 0.0020\n",
      "Epoch 22/300\n",
      "28/28 [==============================] - 0s 8ms/step - loss: 0.3326 - accuracy: 0.8649 - val_loss: 0.4101 - val_accuracy: 0.8482 - lr: 0.0020\n",
      "Epoch 23/300\n",
      "28/28 [==============================] - 0s 8ms/step - loss: 0.3321 - accuracy: 0.8671 - val_loss: 0.4256 - val_accuracy: 0.8482 - lr: 0.0020\n",
      "Epoch 24/300\n",
      "28/28 [==============================] - 0s 10ms/step - loss: 0.3287 - accuracy: 0.8694 - val_loss: 0.4067 - val_accuracy: 0.8482 - lr: 0.0020\n",
      "Epoch 25/300\n",
      "28/28 [==============================] - 0s 10ms/step - loss: 0.3069 - accuracy: 0.8739 - val_loss: 0.4134 - val_accuracy: 0.8482 - lr: 0.0020\n",
      "Epoch 26/300\n",
      "28/28 [==============================] - 0s 10ms/step - loss: 0.3173 - accuracy: 0.8716 - val_loss: 0.3984 - val_accuracy: 0.8482 - lr: 0.0020\n",
      "Epoch 27/300\n",
      "28/28 [==============================] - 0s 9ms/step - loss: 0.3201 - accuracy: 0.8671 - val_loss: 0.3967 - val_accuracy: 0.8482 - lr: 4.0000e-04\n",
      "Epoch 28/300\n",
      "28/28 [==============================] - 0s 9ms/step - loss: 0.3013 - accuracy: 0.8761 - val_loss: 0.4030 - val_accuracy: 0.8571 - lr: 4.0000e-04\n",
      "Epoch 29/300\n",
      "28/28 [==============================] - 0s 9ms/step - loss: 0.3155 - accuracy: 0.8761 - val_loss: 0.4024 - val_accuracy: 0.8482 - lr: 4.0000e-04\n",
      "Epoch 30/300\n",
      "28/28 [==============================] - 0s 11ms/step - loss: 0.2834 - accuracy: 0.8851 - val_loss: 0.4096 - val_accuracy: 0.8482 - lr: 4.0000e-04\n",
      "Epoch 31/300\n",
      "28/28 [==============================] - 0s 9ms/step - loss: 0.2896 - accuracy: 0.8896 - val_loss: 0.4100 - val_accuracy: 0.8482 - lr: 4.0000e-04\n",
      "Epoch 32/300\n",
      "28/28 [==============================] - 0s 10ms/step - loss: 0.3013 - accuracy: 0.8829 - val_loss: 0.4102 - val_accuracy: 0.8482 - lr: 8.0000e-05\n",
      "Epoch 33/300\n",
      "28/28 [==============================] - 0s 9ms/step - loss: 0.3068 - accuracy: 0.8761 - val_loss: 0.4090 - val_accuracy: 0.8482 - lr: 8.0000e-05\n",
      "Epoch 34/300\n",
      "28/28 [==============================] - 0s 11ms/step - loss: 0.3011 - accuracy: 0.8851 - val_loss: 0.4085 - val_accuracy: 0.8482 - lr: 8.0000e-05\n",
      "Epoch 35/300\n",
      "28/28 [==============================] - 0s 10ms/step - loss: 0.3047 - accuracy: 0.8806 - val_loss: 0.4074 - val_accuracy: 0.8482 - lr: 8.0000e-05\n",
      "Epoch 36/300\n",
      "28/28 [==============================] - 0s 10ms/step - loss: 0.3164 - accuracy: 0.8761 - val_loss: 0.4068 - val_accuracy: 0.8482 - lr: 8.0000e-05\n",
      "Epoch 37/300\n",
      "28/28 [==============================] - 0s 8ms/step - loss: 0.3093 - accuracy: 0.8739 - val_loss: 0.4066 - val_accuracy: 0.8482 - lr: 1.6000e-05\n",
      "Epoch 38/300\n",
      "28/28 [==============================] - 0s 8ms/step - loss: 0.2949 - accuracy: 0.8806 - val_loss: 0.4067 - val_accuracy: 0.8482 - lr: 1.6000e-05\n",
      "Epoch 39/300\n",
      "28/28 [==============================] - 0s 9ms/step - loss: 0.3006 - accuracy: 0.8784 - val_loss: 0.4067 - val_accuracy: 0.8482 - lr: 1.6000e-05\n",
      "Epoch 40/300\n",
      "28/28 [==============================] - 0s 8ms/step - loss: 0.3043 - accuracy: 0.8829 - val_loss: 0.4068 - val_accuracy: 0.8482 - lr: 1.6000e-05\n",
      "Epoch 41/300\n",
      "28/28 [==============================] - 0s 8ms/step - loss: 0.3063 - accuracy: 0.8851 - val_loss: 0.4069 - val_accuracy: 0.8482 - lr: 1.6000e-05\n",
      "<keras.src.engine.sequential.Sequential object at 0x0000018310667A00>\n"
     ]
    }
   ],
   "source": [
    "mlp = MLP(folder + file)\n",
    "\n",
    "early_stopping_callback = tf.keras.callbacks.EarlyStopping(\n",
    "    monitor='val_loss', patience=20, restore_best_weights=True)\n",
    "rlr_callback = tf.keras.callbacks.ReduceLROnPlateau(\n",
    "    monitor='val_loss', factor=0.2, patience=5, min_lr=0.0000001)\n",
    "\n",
    "mlp.train(\n",
    "    9,\n",
    "    2,\n",
    "    'Adam',\n",
    "    0.01,\n",
    "    [early_stopping_callback, rlr_callback],\n",
    "    dropout=0.24,\n",
    "    save_folder=None,\n",
    "    oversampling=False,\n",
    "    test=False\n",
    ")\n",
    "\n",
    "print(mlp.trained_model)"
   ]
  },
  {
   "cell_type": "code",
   "execution_count": null,
   "metadata": {},
   "outputs": [],
   "source": [
    "from PyALE import ale\n",
    "\n",
    "df = data.iloc[:, :-1]\n",
    "print(lr.predict(df)[:10])\n",
    "print(mlp.predict(df)[:10])\n",
    "\n",
    "for i, f in enumerate(df.columns.to_list()):\n",
    "    ale_eff = ale(\n",
    "        X=df,\n",
    "        model=lr,\n",
    "        feature=[f],\n",
    "        grid_size=10,\n",
    "        include_CI=False\n",
    "    )"
   ]
  },
  {
   "cell_type": "code",
   "execution_count": 10,
   "metadata": {},
   "outputs": [
    {
     "name": "stdout",
     "output_type": "stream",
     "text": [
      "INFO:tensorflow:Assets written to: my_tf_model\\assets\n"
     ]
    },
    {
     "name": "stderr",
     "output_type": "stream",
     "text": [
      "tensorflow:INFO: Assets written to: my_tf_model\\assets\n",
      "Your TensorFlow version is newer than 2.4.0 and so graph support has been removed in eager mode and some static graphs may not be supported. See PR #1483 for discussion.\n"
     ]
    },
    {
     "ename": "AttributeError",
     "evalue": "Exception encountered when calling layer 'sequential' (type Sequential).\n\n'tuple' object has no attribute 'rank'\n\nCall arguments received by layer 'sequential' (type Sequential):\n  • inputs=['     Age at Operation  Gender  Days Abdominal Pain  Temperature  Tenderness  \\\\\\n110                10       0                    1         37.6           0   \\n82                 14       0                    1         36.8           1   \\n51                 13       0                    1         36.6           0   \\n218                 1       0                    1         38.9           2   \\n557                 7       0                    2         37.2           0   \\n..                ...     ...                  ...          ...         ...   \\n71                 13       0                    1         36.7           0   \\n106                12       0                    1         37.5           0   \\n270                13       1                    1         36.4           1   \\n435                12       0                    2         36.8           0   \\n102                17       0                    1         36.6           0   \\n\\n     Leukos [10^9/l]  CRP [mg/l]  No of Sonographies  Diameter Appendix [mm]  \\n110            15.58         1.9                 1.0                     5.0  \\n82              5.37        27.7                 2.0                    11.0  \\n51             19.43        16.7                 1.0                     7.0  \\n218            14.80        26.8                 1.0                    10.0  \\n557            16.84         9.6                 1.0                     7.0  \\n..               ...         ...                 ...                     ...  \\n71              8.06         5.1                 2.0                     8.0  \\n106            15.75         4.5                 2.0                     8.0  \\n270            20.60        15.9                 1.0                    12.0  \\n435             5.18         4.1                 1.0                     6.0  \\n102            14.96         8.4                 1.0                     7.0  \\n\\n[556 rows x 9 columns]']\n  • training=None\n  • mask=None",
     "output_type": "error",
     "traceback": [
      "\u001b[1;31m---------------------------------------------------------------------------\u001b[0m",
      "\u001b[1;31mAttributeError\u001b[0m                            Traceback (most recent call last)",
      "Cell \u001b[1;32mIn[10], line 6\u001b[0m\n\u001b[0;32m      2\u001b[0m loaded_model \u001b[39m=\u001b[39m tf\u001b[39m.\u001b[39mkeras\u001b[39m.\u001b[39mmodels\u001b[39m.\u001b[39mload_model(\u001b[39m\"\u001b[39m\u001b[39mmy_tf_model\u001b[39m\u001b[39m\"\u001b[39m)\n\u001b[0;32m      4\u001b[0m \u001b[39mimport\u001b[39;00m \u001b[39mshap\u001b[39;00m\n\u001b[1;32m----> 6\u001b[0m shap_explainer \u001b[39m=\u001b[39m shap\u001b[39m.\u001b[39;49mDeepExplainer(loaded_model, X_train)\n\u001b[0;32m      7\u001b[0m shap_values \u001b[39m=\u001b[39m shap_explainer\u001b[39m.\u001b[39mshap_vaues(X_test\u001b[39m.\u001b[39miloc[[\u001b[39m0\u001b[39m]], check_additivity\u001b[39m=\u001b[39m\u001b[39mFalse\u001b[39;00m)\n\u001b[0;32m      8\u001b[0m shap\u001b[39m.\u001b[39msummary_plot(shap_values, X_test\u001b[39m.\u001b[39miloc[[\u001b[39m0\u001b[39m]])\n",
      "File \u001b[1;32mc:\\Users\\Ivan\\.venv\\mlp\\lib\\site-packages\\shap\\explainers\\_deep\\__init__.py:84\u001b[0m, in \u001b[0;36mDeep.__init__\u001b[1;34m(self, model, data, session, learning_phase_flags)\u001b[0m\n\u001b[0;32m     81\u001b[0m         framework \u001b[39m=\u001b[39m \u001b[39m'\u001b[39m\u001b[39mtensorflow\u001b[39m\u001b[39m'\u001b[39m\n\u001b[0;32m     83\u001b[0m \u001b[39mif\u001b[39;00m framework \u001b[39m==\u001b[39m \u001b[39m'\u001b[39m\u001b[39mtensorflow\u001b[39m\u001b[39m'\u001b[39m:\n\u001b[1;32m---> 84\u001b[0m     \u001b[39mself\u001b[39m\u001b[39m.\u001b[39mexplainer \u001b[39m=\u001b[39m TFDeep(model, data, session, learning_phase_flags)\n\u001b[0;32m     85\u001b[0m \u001b[39melif\u001b[39;00m framework \u001b[39m==\u001b[39m \u001b[39m'\u001b[39m\u001b[39mpytorch\u001b[39m\u001b[39m'\u001b[39m:\n\u001b[0;32m     86\u001b[0m     \u001b[39mself\u001b[39m\u001b[39m.\u001b[39mexplainer \u001b[39m=\u001b[39m PyTorchDeep(model, data)\n",
      "File \u001b[1;32mc:\\Users\\Ivan\\.venv\\mlp\\lib\\site-packages\\shap\\explainers\\_deep\\deep_tf.py:162\u001b[0m, in \u001b[0;36mTFDeep.__init__\u001b[1;34m(self, model, data, session, learning_phase_flags)\u001b[0m\n\u001b[0;32m    158\u001b[0m         \u001b[39mself\u001b[39m\u001b[39m.\u001b[39mexpected_value \u001b[39m=\u001b[39m \u001b[39mself\u001b[39m\u001b[39m.\u001b[39mrun(\u001b[39mself\u001b[39m\u001b[39m.\u001b[39mmodel_output, \u001b[39mself\u001b[39m\u001b[39m.\u001b[39mmodel_inputs, \u001b[39mself\u001b[39m\u001b[39m.\u001b[39mdata)\u001b[39m.\u001b[39mmean(\u001b[39m0\u001b[39m)\n\u001b[0;32m    159\u001b[0m     \u001b[39melse\u001b[39;00m:\n\u001b[0;32m    160\u001b[0m         \u001b[39m#if type(self.model)is tuple:\u001b[39;00m\n\u001b[0;32m    161\u001b[0m         \u001b[39m#    self.fModel(cnn.inputs, cnn.get_layer(theNameYouWant).outputs)\u001b[39;00m\n\u001b[1;32m--> 162\u001b[0m         \u001b[39mself\u001b[39m\u001b[39m.\u001b[39mexpected_value \u001b[39m=\u001b[39m tf\u001b[39m.\u001b[39mreduce_mean(\u001b[39mself\u001b[39;49m\u001b[39m.\u001b[39;49mmodel(\u001b[39mself\u001b[39;49m\u001b[39m.\u001b[39;49mdata), \u001b[39m0\u001b[39m)\n\u001b[0;32m    164\u001b[0m \u001b[39mif\u001b[39;00m \u001b[39mnot\u001b[39;00m tf\u001b[39m.\u001b[39mexecuting_eagerly():\n\u001b[0;32m    165\u001b[0m     \u001b[39mself\u001b[39m\u001b[39m.\u001b[39m_init_between_tensors(\u001b[39mself\u001b[39m\u001b[39m.\u001b[39mmodel_output\u001b[39m.\u001b[39mop, \u001b[39mself\u001b[39m\u001b[39m.\u001b[39mmodel_inputs)\n",
      "File \u001b[1;32mc:\\Users\\Ivan\\.venv\\mlp\\lib\\site-packages\\keras\\src\\utils\\traceback_utils.py:70\u001b[0m, in \u001b[0;36mfilter_traceback.<locals>.error_handler\u001b[1;34m(*args, **kwargs)\u001b[0m\n\u001b[0;32m     67\u001b[0m     filtered_tb \u001b[39m=\u001b[39m _process_traceback_frames(e\u001b[39m.\u001b[39m__traceback__)\n\u001b[0;32m     68\u001b[0m     \u001b[39m# To get the full stack trace, call:\u001b[39;00m\n\u001b[0;32m     69\u001b[0m     \u001b[39m# `tf.debugging.disable_traceback_filtering()`\u001b[39;00m\n\u001b[1;32m---> 70\u001b[0m     \u001b[39mraise\u001b[39;00m e\u001b[39m.\u001b[39mwith_traceback(filtered_tb) \u001b[39mfrom\u001b[39;00m \u001b[39mNone\u001b[39m\n\u001b[0;32m     71\u001b[0m \u001b[39mfinally\u001b[39;00m:\n\u001b[0;32m     72\u001b[0m     \u001b[39mdel\u001b[39;00m filtered_tb\n",
      "File \u001b[1;32mc:\\Users\\Ivan\\.venv\\mlp\\lib\\site-packages\\keras\\src\\engine\\input_spec.py:251\u001b[0m, in \u001b[0;36massert_input_compatibility\u001b[1;34m(input_spec, inputs, layer_name)\u001b[0m\n\u001b[0;32m    244\u001b[0m         \u001b[39mraise\u001b[39;00m \u001b[39mValueError\u001b[39;00m(\n\u001b[0;32m    245\u001b[0m             \u001b[39mf\u001b[39m\u001b[39m'\u001b[39m\u001b[39mInput \u001b[39m\u001b[39m{\u001b[39;00minput_index\u001b[39m}\u001b[39;00m\u001b[39m of layer \u001b[39m\u001b[39m\"\u001b[39m\u001b[39m{\u001b[39;00mlayer_name\u001b[39m}\u001b[39;00m\u001b[39m\"\u001b[39m\u001b[39m \u001b[39m\u001b[39m'\u001b[39m\n\u001b[0;32m    246\u001b[0m             \u001b[39m\"\u001b[39m\u001b[39mis incompatible with the layer: \u001b[39m\u001b[39m\"\u001b[39m\n\u001b[0;32m    247\u001b[0m             \u001b[39mf\u001b[39m\u001b[39m\"\u001b[39m\u001b[39mexpected max_ndim=\u001b[39m\u001b[39m{\u001b[39;00mspec\u001b[39m.\u001b[39mmax_ndim\u001b[39m}\u001b[39;00m\u001b[39m, \u001b[39m\u001b[39m\"\u001b[39m\n\u001b[0;32m    248\u001b[0m             \u001b[39mf\u001b[39m\u001b[39m\"\u001b[39m\u001b[39mfound ndim=\u001b[39m\u001b[39m{\u001b[39;00mndim\u001b[39m}\u001b[39;00m\u001b[39m\"\u001b[39m\n\u001b[0;32m    249\u001b[0m         )\n\u001b[0;32m    250\u001b[0m \u001b[39mif\u001b[39;00m spec\u001b[39m.\u001b[39mmin_ndim \u001b[39mis\u001b[39;00m \u001b[39mnot\u001b[39;00m \u001b[39mNone\u001b[39;00m:\n\u001b[1;32m--> 251\u001b[0m     ndim \u001b[39m=\u001b[39m x\u001b[39m.\u001b[39;49mshape\u001b[39m.\u001b[39;49mrank\n\u001b[0;32m    252\u001b[0m     \u001b[39mif\u001b[39;00m ndim \u001b[39mis\u001b[39;00m \u001b[39mnot\u001b[39;00m \u001b[39mNone\u001b[39;00m \u001b[39mand\u001b[39;00m ndim \u001b[39m<\u001b[39m spec\u001b[39m.\u001b[39mmin_ndim:\n\u001b[0;32m    253\u001b[0m         \u001b[39mraise\u001b[39;00m \u001b[39mValueError\u001b[39;00m(\n\u001b[0;32m    254\u001b[0m             \u001b[39mf\u001b[39m\u001b[39m'\u001b[39m\u001b[39mInput \u001b[39m\u001b[39m{\u001b[39;00minput_index\u001b[39m}\u001b[39;00m\u001b[39m of layer \u001b[39m\u001b[39m\"\u001b[39m\u001b[39m{\u001b[39;00mlayer_name\u001b[39m}\u001b[39;00m\u001b[39m\"\u001b[39m\u001b[39m \u001b[39m\u001b[39m'\u001b[39m\n\u001b[0;32m    255\u001b[0m             \u001b[39m\"\u001b[39m\u001b[39mis incompatible with the layer: \u001b[39m\u001b[39m\"\u001b[39m\n\u001b[1;32m   (...)\u001b[0m\n\u001b[0;32m    258\u001b[0m             \u001b[39mf\u001b[39m\u001b[39m\"\u001b[39m\u001b[39mFull shape received: \u001b[39m\u001b[39m{\u001b[39;00m\u001b[39mtuple\u001b[39m(shape)\u001b[39m}\u001b[39;00m\u001b[39m\"\u001b[39m\n\u001b[0;32m    259\u001b[0m         )\n",
      "\u001b[1;31mAttributeError\u001b[0m: Exception encountered when calling layer 'sequential' (type Sequential).\n\n'tuple' object has no attribute 'rank'\n\nCall arguments received by layer 'sequential' (type Sequential):\n  • inputs=['     Age at Operation  Gender  Days Abdominal Pain  Temperature  Tenderness  \\\\\\n110                10       0                    1         37.6           0   \\n82                 14       0                    1         36.8           1   \\n51                 13       0                    1         36.6           0   \\n218                 1       0                    1         38.9           2   \\n557                 7       0                    2         37.2           0   \\n..                ...     ...                  ...          ...         ...   \\n71                 13       0                    1         36.7           0   \\n106                12       0                    1         37.5           0   \\n270                13       1                    1         36.4           1   \\n435                12       0                    2         36.8           0   \\n102                17       0                    1         36.6           0   \\n\\n     Leukos [10^9/l]  CRP [mg/l]  No of Sonographies  Diameter Appendix [mm]  \\n110            15.58         1.9                 1.0                     5.0  \\n82              5.37        27.7                 2.0                    11.0  \\n51             19.43        16.7                 1.0                     7.0  \\n218            14.80        26.8                 1.0                    10.0  \\n557            16.84         9.6                 1.0                     7.0  \\n..               ...         ...                 ...                     ...  \\n71              8.06         5.1                 2.0                     8.0  \\n106            15.75         4.5                 2.0                     8.0  \\n270            20.60        15.9                 1.0                    12.0  \\n435             5.18         4.1                 1.0                     6.0  \\n102            14.96         8.4                 1.0                     7.0  \\n\\n[556 rows x 9 columns]']\n  • training=None\n  • mask=None"
     ]
    }
   ],
   "source": [
    "mlp.trained_model.save(\"my_tf_model\")\n",
    "loaded_model = tf.keras.models.load_model(\"my_tf_model\")\n",
    "loaded_model.predict(X_test.iloc[[0]])\n",
    "# import shap\n",
    "\n",
    "# shap_explainer = shap.DeepExplainer(loaded_model, X_train)\n",
    "# shap_values = shap_explainer.shap_vaues(X_test.iloc[[0]], check_additivity=False)\n",
    "# shap.summary_plot(shap_values, X_test.iloc[[0]])"
   ]
  }
 ],
 "metadata": {
  "kernelspec": {
   "display_name": "mlp",
   "language": "python",
   "name": "python3"
  },
  "language_info": {
   "codemirror_mode": {
    "name": "ipython",
    "version": 3
   },
   "file_extension": ".py",
   "mimetype": "text/x-python",
   "name": "python",
   "nbconvert_exporter": "python",
   "pygments_lexer": "ipython3",
   "version": "3.10.9"
  },
  "orig_nbformat": 4
 },
 "nbformat": 4,
 "nbformat_minor": 2
}
