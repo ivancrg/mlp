{
 "cells": [
  {
   "cell_type": "code",
   "execution_count": 1,
   "metadata": {},
   "outputs": [],
   "source": [
    "import pandas as pd"
   ]
  },
  {
   "cell_type": "code",
   "execution_count": 35,
   "metadata": {},
   "outputs": [
    {
     "name": "stdout",
     "output_type": "stream",
     "text": [
      "[(1, 137), (0, 558)]\n",
      "     Age at Operation  Gender  Days Abdominal Pain  Temperature  Tenderness   \n",
      "0            0.823529       1             0.047619     0.446809           0  \\\n",
      "1            0.764706       0             0.095238     0.468085           0   \n",
      "2            0.882353       0             0.000000     0.446809           1   \n",
      "3            0.764706       0             0.047619     0.191489           1   \n",
      "4            0.882353       1             0.333333     0.659574           0   \n",
      "..                ...     ...                  ...          ...         ...   \n",
      "690          0.588235       0             0.047619     0.468085           1   \n",
      "691          0.823529       1             0.047619     0.255319           0   \n",
      "692          0.705882       0             0.238095     0.468085           1   \n",
      "693          0.882353       1             0.047619     0.446809           0   \n",
      "694          0.470588       1             0.047619     0.680851           0   \n",
      "\n",
      "     Leukos [10^9/l]  CRP [mg/l]  No of Sonographies  Diameter Appendix [mm]   \n",
      "0           0.284967    0.015456                0.00                0.263158  \\\n",
      "1           0.640042    0.079341                0.00                0.368421   \n",
      "2           0.353680    0.004894                0.00                0.263158   \n",
      "3           0.175096    0.000000                0.25                0.052632   \n",
      "4           0.414719    0.037094                0.50                0.263158   \n",
      "..               ...         ...                 ...                     ...   \n",
      "690         0.493198    0.015714                0.00                0.210526   \n",
      "691         0.587722    0.001546                0.00                0.210526   \n",
      "692         0.326822    0.204019                0.00                0.631579   \n",
      "693         0.694803    0.058217                0.00                0.210526   \n",
      "694         0.402163    0.090417                0.25                0.000000   \n",
      "\n",
      "     Postoperative Diagnosis  \n",
      "0                          0  \n",
      "1                          1  \n",
      "2                          0  \n",
      "3                          0  \n",
      "4                          0  \n",
      "..                       ...  \n",
      "690                        0  \n",
      "691                        0  \n",
      "692                        1  \n",
      "693                        0  \n",
      "694                        0  \n",
      "\n",
      "[695 rows x 10 columns]\n"
     ]
    }
   ],
   "source": [
    "filename = './report/NO_OS/postop_binary/postop_binary_norm.csv'\n",
    "output_name = 'Postoperative Diagnosis'\n",
    "df = pd.read_csv(filename)\n",
    "classes_counts = [(c, sum(df.iloc[:, -1] == c))\n",
    "                    for c in df.iloc[:, -1].unique()]\n",
    "classes_counts.sort(key=lambda x: x[1])\n",
    "print(classes_counts)\n",
    "print(df)"
   ]
  },
  {
   "cell_type": "code",
   "execution_count": 36,
   "metadata": {},
   "outputs": [],
   "source": [
    "max_cnt = classes_counts[-1][-1]\n",
    "\n",
    "for cls, cnt in classes_counts:\n",
    "    if cnt == max_cnt:\n",
    "        continue\n",
    "    \n",
    "    tmp = df[df[output_name] == cls].copy()\n",
    "\n",
    "    tdf = pd.DataFrame()\n",
    "    for _ in range(max_cnt // cnt - 1):\n",
    "        tdf = pd.concat([tdf, tmp.copy()], ignore_index=True)\n",
    "    tdf = pd.concat([tdf, tmp.iloc[:(max_cnt - cnt - len(tdf))]], ignore_index=True)\n",
    "\n",
    "    df = pd.concat([df, tdf], ignore_index=True)\n"
   ]
  },
  {
   "cell_type": "code",
   "execution_count": 37,
   "metadata": {},
   "outputs": [
    {
     "name": "stdout",
     "output_type": "stream",
     "text": [
      "Postoperative Diagnosis\n",
      "0    558\n",
      "1    558\n",
      "Name: count, dtype: int64\n",
      "   Age at Operation  Gender  Days Abdominal Pain  Temperature  Tenderness   \n",
      "0          0.823529       1             0.047619     0.446809           0  \\\n",
      "1          0.764706       0             0.095238     0.468085           0   \n",
      "2          0.882353       0             0.000000     0.446809           1   \n",
      "3          0.764706       0             0.047619     0.191489           1   \n",
      "4          0.882353       1             0.333333     0.659574           0   \n",
      "\n",
      "   Leukos [10^9/l]  CRP [mg/l]  No of Sonographies  Diameter Appendix [mm]   \n",
      "0         0.284967    0.015456                0.00                0.263158  \\\n",
      "1         0.640042    0.079341                0.00                0.368421   \n",
      "2         0.353680    0.004894                0.00                0.263158   \n",
      "3         0.175096    0.000000                0.25                0.052632   \n",
      "4         0.414719    0.037094                0.50                0.263158   \n",
      "\n",
      "   Postoperative Diagnosis  \n",
      "0                        0  \n",
      "1                        1  \n",
      "2                        0  \n",
      "3                        0  \n",
      "4                        0  \n"
     ]
    }
   ],
   "source": [
    "print(df[output_name].value_counts())\n",
    "print(df.head())"
   ]
  },
  {
   "cell_type": "code",
   "execution_count": 38,
   "metadata": {},
   "outputs": [],
   "source": [
    "df.to_csv(filename.replace('NO_OS', 'OS'), index=False)"
   ]
  }
 ],
 "metadata": {
  "kernelspec": {
   "display_name": "mlp",
   "language": "python",
   "name": "python3"
  },
  "language_info": {
   "codemirror_mode": {
    "name": "ipython",
    "version": 3
   },
   "file_extension": ".py",
   "mimetype": "text/x-python",
   "name": "python",
   "nbconvert_exporter": "python",
   "pygments_lexer": "ipython3",
   "version": "3.8.10"
  },
  "orig_nbformat": 4
 },
 "nbformat": 4,
 "nbformat_minor": 2
}
