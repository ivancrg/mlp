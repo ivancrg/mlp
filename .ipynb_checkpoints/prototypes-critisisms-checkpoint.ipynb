{
 "cells": [
  {
   "cell_type": "code",
   "execution_count": 1,
   "id": "4a06624a",
   "metadata": {},
   "outputs": [],
   "source": [
    "import pandas as pd\n",
    "import seaborn as sn\n",
    "import matplotlib.pyplot as plt\n",
    "import numpy as np"
   ]
  },
  {
   "cell_type": "code",
   "execution_count": 8,
   "id": "05947bee",
   "metadata": {},
   "outputs": [],
   "source": [
    "df = pd.read_csv('encoded.csv')"
   ]
  },
  {
   "cell_type": "code",
   "execution_count": 9,
   "id": "a88887cb",
   "metadata": {},
   "outputs": [
    {
     "data": {
      "text/html": [
       "<div>\n",
       "<style scoped>\n",
       "    .dataframe tbody tr th:only-of-type {\n",
       "        vertical-align: middle;\n",
       "    }\n",
       "\n",
       "    .dataframe tbody tr th {\n",
       "        vertical-align: top;\n",
       "    }\n",
       "\n",
       "    .dataframe thead th {\n",
       "        text-align: right;\n",
       "    }\n",
       "</style>\n",
       "<table border=\"1\" class=\"dataframe\">\n",
       "  <thead>\n",
       "    <tr style=\"text-align: right;\">\n",
       "      <th></th>\n",
       "      <th>Age</th>\n",
       "      <th>Gender</th>\n",
       "      <th>Days Abdominal Pain</th>\n",
       "      <th>Temperature</th>\n",
       "      <th>Tenderness</th>\n",
       "      <th>Leukocytes [10^9/l]</th>\n",
       "      <th>CRP [mg/l]</th>\n",
       "      <th>Number of Sonographies preop</th>\n",
       "      <th>Preoperative Diagnosis</th>\n",
       "    </tr>\n",
       "  </thead>\n",
       "  <tbody>\n",
       "    <tr>\n",
       "      <th>0</th>\n",
       "      <td>15</td>\n",
       "      <td>1</td>\n",
       "      <td>1</td>\n",
       "      <td>36.9</td>\n",
       "      <td>1</td>\n",
       "      <td>11.10</td>\n",
       "      <td>6.0</td>\n",
       "      <td>1</td>\n",
       "      <td>0</td>\n",
       "    </tr>\n",
       "    <tr>\n",
       "      <th>1</th>\n",
       "      <td>14</td>\n",
       "      <td>0</td>\n",
       "      <td>2</td>\n",
       "      <td>37.0</td>\n",
       "      <td>1</td>\n",
       "      <td>21.28</td>\n",
       "      <td>30.8</td>\n",
       "      <td>1</td>\n",
       "      <td>0</td>\n",
       "    </tr>\n",
       "    <tr>\n",
       "      <th>2</th>\n",
       "      <td>16</td>\n",
       "      <td>0</td>\n",
       "      <td>0</td>\n",
       "      <td>36.9</td>\n",
       "      <td>0</td>\n",
       "      <td>13.07</td>\n",
       "      <td>1.9</td>\n",
       "      <td>1</td>\n",
       "      <td>0</td>\n",
       "    </tr>\n",
       "    <tr>\n",
       "      <th>3</th>\n",
       "      <td>14</td>\n",
       "      <td>0</td>\n",
       "      <td>1</td>\n",
       "      <td>35.7</td>\n",
       "      <td>0</td>\n",
       "      <td>7.95</td>\n",
       "      <td>0.0</td>\n",
       "      <td>2</td>\n",
       "      <td>0</td>\n",
       "    </tr>\n",
       "    <tr>\n",
       "      <th>4</th>\n",
       "      <td>16</td>\n",
       "      <td>1</td>\n",
       "      <td>7</td>\n",
       "      <td>37.9</td>\n",
       "      <td>1</td>\n",
       "      <td>14.82</td>\n",
       "      <td>14.4</td>\n",
       "      <td>3</td>\n",
       "      <td>0</td>\n",
       "    </tr>\n",
       "  </tbody>\n",
       "</table>\n",
       "</div>"
      ],
      "text/plain": [
       "   Age  Gender  Days Abdominal Pain  Temperature  Tenderness  \\\n",
       "0   15       1                    1         36.9           1   \n",
       "1   14       0                    2         37.0           1   \n",
       "2   16       0                    0         36.9           0   \n",
       "3   14       0                    1         35.7           0   \n",
       "4   16       1                    7         37.9           1   \n",
       "\n",
       "   Leukocytes [10^9/l]  CRP [mg/l]  Number of Sonographies preop  \\\n",
       "0                11.10         6.0                             1   \n",
       "1                21.28        30.8                             1   \n",
       "2                13.07         1.9                             1   \n",
       "3                 7.95         0.0                             2   \n",
       "4                14.82        14.4                             3   \n",
       "\n",
       "   Preoperative Diagnosis  \n",
       "0                       0  \n",
       "1                       0  \n",
       "2                       0  \n",
       "3                       0  \n",
       "4                       0  "
      ]
     },
     "execution_count": 9,
     "metadata": {},
     "output_type": "execute_result"
    }
   ],
   "source": [
    "df.head()"
   ]
  },
  {
   "cell_type": "code",
   "execution_count": 10,
   "id": "9eea7823",
   "metadata": {},
   "outputs": [
    {
     "name": "stdout",
     "output_type": "stream",
     "text": [
      "Age                               int64\n",
      "Gender                            int64\n",
      "Days Abdominal Pain               int64\n",
      "Temperature                     float64\n",
      "Tenderness                        int64\n",
      "Leukocytes [10^9/l]             float64\n",
      "CRP [mg/l]                      float64\n",
      "Number of Sonographies preop      int64\n",
      "Preoperative Diagnosis            int64\n",
      "dtype: object\n"
     ]
    }
   ],
   "source": [
    "print(df.dtypes)"
   ]
  },
  {
   "cell_type": "code",
   "execution_count": null,
   "id": "449eb609",
   "metadata": {},
   "outputs": [],
   "source": [
    "def mmd(X, m, n):\n",
    "    "
   ]
  },
  {
   "cell_type": "code",
   "execution_count": 11,
   "id": "a6836499",
   "metadata": {},
   "outputs": [],
   "source": [
    "def find_prototypes(m=10):\n",
    "    sel_p = 0\n",
    "    \n",
    "    while (sel_p < m)\n",
    "    \n",
    "    print(m)"
   ]
  },
  {
   "cell_type": "code",
   "execution_count": 12,
   "id": "d3ed4ac1",
   "metadata": {},
   "outputs": [
    {
     "name": "stdout",
     "output_type": "stream",
     "text": [
      "10\n"
     ]
    }
   ],
   "source": [
    "find_prototypes()"
   ]
  },
  {
   "cell_type": "code",
   "execution_count": null,
   "id": "776e202d",
   "metadata": {},
   "outputs": [],
   "source": []
  }
 ],
 "metadata": {
  "kernelspec": {
   "display_name": "Python 3 (ipykernel)",
   "language": "python",
   "name": "python3"
  },
  "language_info": {
   "codemirror_mode": {
    "name": "ipython",
    "version": 3
   },
   "file_extension": ".py",
   "mimetype": "text/x-python",
   "name": "python",
   "nbconvert_exporter": "python",
   "pygments_lexer": "ipython3",
   "version": "3.10.9"
  }
 },
 "nbformat": 4,
 "nbformat_minor": 5
}
