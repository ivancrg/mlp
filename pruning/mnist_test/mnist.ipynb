{
 "cells": [
  {
   "cell_type": "code",
   "execution_count": 2,
   "id": "a536615d",
   "metadata": {},
   "outputs": [],
   "source": [
    "import torch\n",
    "import torchvision"
   ]
  },
  {
   "cell_type": "code",
   "execution_count": 6,
   "id": "bee8434e",
   "metadata": {},
   "outputs": [
    {
     "data": {
      "text/plain": [
       "<torch._C.Generator at 0x27b8f3943f0>"
      ]
     },
     "execution_count": 6,
     "metadata": {},
     "output_type": "execute_result"
    }
   ],
   "source": [
    "n_epochs = 3\n",
    "batch_size_train = 64\n",
    "batch_size_test = 1000\n",
    "learning_rate = 0.01\n",
    "momentum = 0.5\n",
    "log_interval = 10\n",
    "\n",
    "random_seed = 1\n",
    "torch.backends.cudnn.enabled = False\n",
    "torch.manual_seed(random_seed)"
   ]
  },
  {
   "cell_type": "code",
   "execution_count": 7,
   "id": "c7b8c4c5",
   "metadata": {},
   "outputs": [
    {
     "name": "stdout",
     "output_type": "stream",
     "text": [
      "Downloading http://yann.lecun.com/exdb/mnist/train-images-idx3-ubyte.gz\n",
      "Downloading http://yann.lecun.com/exdb/mnist/train-images-idx3-ubyte.gz to /files/MNIST\\raw\\train-images-idx3-ubyte.gz\n"
     ]
    },
    {
     "data": {
      "application/vnd.jupyter.widget-view+json": {
       "model_id": "b687721a07da4667a17ae1483c51940c",
       "version_major": 2,
       "version_minor": 0
      },
      "text/plain": [
       "  0%|          | 0/9912422 [00:00<?, ?it/s]"
      ]
     },
     "metadata": {},
     "output_type": "display_data"
    },
    {
     "name": "stdout",
     "output_type": "stream",
     "text": [
      "Extracting /files/MNIST\\raw\\train-images-idx3-ubyte.gz to /files/MNIST\\raw\n",
      "\n",
      "Downloading http://yann.lecun.com/exdb/mnist/train-labels-idx1-ubyte.gz\n",
      "Downloading http://yann.lecun.com/exdb/mnist/train-labels-idx1-ubyte.gz to /files/MNIST\\raw\\train-labels-idx1-ubyte.gz\n"
     ]
    },
    {
     "data": {
      "application/vnd.jupyter.widget-view+json": {
       "model_id": "ba14ad7c08374b469caca990203b7ed2",
       "version_major": 2,
       "version_minor": 0
      },
      "text/plain": [
       "  0%|          | 0/28881 [00:00<?, ?it/s]"
      ]
     },
     "metadata": {},
     "output_type": "display_data"
    },
    {
     "name": "stdout",
     "output_type": "stream",
     "text": [
      "Extracting /files/MNIST\\raw\\train-labels-idx1-ubyte.gz to /files/MNIST\\raw\n",
      "\n",
      "Downloading http://yann.lecun.com/exdb/mnist/t10k-images-idx3-ubyte.gz\n",
      "Downloading http://yann.lecun.com/exdb/mnist/t10k-images-idx3-ubyte.gz to /files/MNIST\\raw\\t10k-images-idx3-ubyte.gz\n"
     ]
    },
    {
     "data": {
      "application/vnd.jupyter.widget-view+json": {
       "model_id": "aef50473cbfb4d199524e442253e9262",
       "version_major": 2,
       "version_minor": 0
      },
      "text/plain": [
       "  0%|          | 0/1648877 [00:00<?, ?it/s]"
      ]
     },
     "metadata": {},
     "output_type": "display_data"
    },
    {
     "name": "stdout",
     "output_type": "stream",
     "text": [
      "Extracting /files/MNIST\\raw\\t10k-images-idx3-ubyte.gz to /files/MNIST\\raw\n",
      "\n",
      "Downloading http://yann.lecun.com/exdb/mnist/t10k-labels-idx1-ubyte.gz\n",
      "Downloading http://yann.lecun.com/exdb/mnist/t10k-labels-idx1-ubyte.gz to /files/MNIST\\raw\\t10k-labels-idx1-ubyte.gz\n"
     ]
    },
    {
     "data": {
      "application/vnd.jupyter.widget-view+json": {
       "model_id": "3670539c0f66485683de983fa082621f",
       "version_major": 2,
       "version_minor": 0
      },
      "text/plain": [
       "  0%|          | 0/4542 [00:00<?, ?it/s]"
      ]
     },
     "metadata": {},
     "output_type": "display_data"
    },
    {
     "name": "stdout",
     "output_type": "stream",
     "text": [
      "Extracting /files/MNIST\\raw\\t10k-labels-idx1-ubyte.gz to /files/MNIST\\raw\n",
      "\n"
     ]
    }
   ],
   "source": [
    "train_loader = torch.utils.data.DataLoader(\n",
    "  torchvision.datasets.MNIST('/files/', train=True, download=True,\n",
    "                             transform=torchvision.transforms.Compose([\n",
    "                               torchvision.transforms.ToTensor(),\n",
    "                               torchvision.transforms.Normalize(\n",
    "                                 (0.1307,), (0.3081,))\n",
    "                             ])),\n",
    "  batch_size=batch_size_train, shuffle=True)\n",
    "\n",
    "test_loader = torch.utils.data.DataLoader(\n",
    "  torchvision.datasets.MNIST('/files/', train=False, download=True,\n",
    "                             transform=torchvision.transforms.Compose([\n",
    "                               torchvision.transforms.ToTensor(),\n",
    "                               torchvision.transforms.Normalize(\n",
    "                                 (0.1307,), (0.3081,))\n",
    "                             ])),\n",
    "  batch_size=batch_size_test, shuffle=True)"
   ]
  },
  {
   "cell_type": "code",
   "execution_count": 8,
   "id": "f86c892b",
   "metadata": {},
   "outputs": [],
   "source": [
    "examples = enumerate(test_loader)\n",
    "batch_idx, (example_data, example_targets) = next(examples)"
   ]
  },
  {
   "cell_type": "code",
   "execution_count": 9,
   "id": "2fef53e1",
   "metadata": {},
   "outputs": [
    {
     "data": {
      "text/plain": [
       "torch.Size([1000, 1, 28, 28])"
      ]
     },
     "execution_count": 9,
     "metadata": {},
     "output_type": "execute_result"
    }
   ],
   "source": [
    "example_data.shape"
   ]
  },
  {
   "cell_type": "code",
   "execution_count": 26,
   "id": "c8685955",
   "metadata": {},
   "outputs": [
    {
     "data": {
      "image/png": "[encoded data removed]",
      "text/plain": [
       "<Figure size 640x480 with 6 Axes>"
      ]
     },
     "metadata": {},
     "output_type": "display_data"
    }
   ],
   "source": [
    "import matplotlib.pyplot as plt\n",
    "\n",
    "fig = plt.figure()\n",
    "for i in range(6):\n",
    "  plt.subplot(2,3,i+1)\n",
    "  plt.tight_layout()\n",
    "  plt.imshow(example_data[i][0], cmap='gray', interpolation='none')\n",
    "  plt.title(\"Ground Truth: {}\".format(example_targets[i]))\n",
    "  plt.xticks([])\n",
    "  plt.yticks([])"
   ]
  },
  {
   "cell_type": "code",
   "execution_count": 24,
   "id": "2f4008ba",
   "metadata": {},
   "outputs": [
    {
     "data": {
      "text/plain": [
       "torch.Size([1000, 1, 28, 28])"
      ]
     },
     "execution_count": 24,
     "metadata": {},
     "output_type": "execute_result"
    }
   ],
   "source": [
    "next(enumerate(test_loader))[1][0].shape"
   ]
  },
  {
   "cell_type": "code",
   "execution_count": 28,
   "id": "a6789358",
   "metadata": {},
   "outputs": [],
   "source": [
    "import torch.nn as nn\n",
    "import torch.nn.functional as F\n",
    "import torch.optim as optim"
   ]
  },
  {
   "cell_type": "code",
   "execution_count": 29,
   "id": "82c382a7",
   "metadata": {},
   "outputs": [],
   "source": [
    "class Net(nn.Module):\n",
    "    def __init__(self):\n",
    "        super(Net, self).__init__()\n",
    "        self.conv1 = nn.Conv2d(1, 10, kernel_size=5)\n",
    "        self.conv2 = nn.Conv2d(10, 20, kernel_size=5)\n",
    "        self.conv2_drop = nn.Dropout2d()\n",
    "        self.fc1 = nn.Linear(320, 50)\n",
    "        self.fc2 = nn.Linear(50, 10)\n",
    "\n",
    "    def forward(self, x):\n",
    "        x = F.relu(F.max_pool2d(self.conv1(x), 2))\n",
    "        x = F.relu(F.max_pool2d(self.conv2_drop(self.conv2(x)), 2))\n",
    "        x = x.view(-1, 320)\n",
    "        x = F.relu(self.fc1(x))\n",
    "        x = F.dropout(x, training=self.training)\n",
    "        x = self.fc2(x)\n",
    "        return F.log_softmax(x)"
   ]
  },
  {
   "cell_type": "code",
   "execution_count": 31,
   "id": "94155d9b",
   "metadata": {},
   "outputs": [],
   "source": [
    "network = Net()\n",
    "optimizer = optim.SGD(network.parameters(),\n",
    "                      lr=learning_rate,\n",
    "                      momentum=momentum)"
   ]
  },
  {
   "cell_type": "code",
   "execution_count": 53,
   "id": "591a1cf4",
   "metadata": {},
   "outputs": [],
   "source": [
    "train_losses = []\n",
    "train_counter = []\n",
    "test_losses = []\n",
    "test_counter = [i*len(train_loader.dataset) for i in range(n_epochs + 1)]"
   ]
  },
  {
   "cell_type": "code",
   "execution_count": 54,
   "id": "35952125",
   "metadata": {},
   "outputs": [],
   "source": [
    "def train(epoch):\n",
    "  network.train()\n",
    "  for batch_idx, (data, target) in enumerate(train_loader):\n",
    "    optimizer.zero_grad()\n",
    "    output = network(data)\n",
    "    loss = F.nll_loss(output, target)\n",
    "    loss.backward()\n",
    "    optimizer.step()\n",
    "    if batch_idx % log_interval == 0:\n",
    "      print('Train Epoch: {} [{}/{} ({:.0f}%)]\\tLoss: {:.6f}'.format(\n",
    "        epoch, batch_idx * len(data), len(train_loader.dataset),\n",
    "        100. * batch_idx / len(train_loader), loss.item()))\n",
    "      train_losses.append(loss.item())\n",
    "      train_counter.append(\n",
    "        (batch_idx*64) + ((epoch-1)*len(train_loader.dataset)))\n",
    "      torch.save(network.state_dict(), 'mnist_results/model.pth')\n",
    "      torch.save(optimizer.state_dict(), 'mnist_results/optimizer.pth')"
   ]
  },
  {
   "cell_type": "code",
   "execution_count": 55,
   "id": "c8e3b444",
   "metadata": {},
   "outputs": [],
   "source": [
    "def test():\n",
    "  network.eval()\n",
    "  test_loss = 0\n",
    "  correct = 0\n",
    "  with torch.no_grad():\n",
    "    for data, target in test_loader:\n",
    "      output = network(data)\n",
    "      test_loss += F.nll_loss(output, target, size_average=False).item()\n",
    "      pred = output.data.max(1, keepdim=True)[1]\n",
    "      correct += pred.eq(target.data.view_as(pred)).sum()\n",
    "  test_loss /= len(test_loader.dataset)\n",
    "  test_losses.append(test_loss)\n",
    "  print('\\nTest set: Avg. loss: {:.4f}, Accuracy: {}/{} ({:.0f}%)\\n'.format(\n",
    "    test_loss, correct, len(test_loader.dataset),\n",
    "    100. * correct / len(test_loader.dataset)))"
   ]
  },
  {
   "cell_type": "code",
   "execution_count": 56,
   "id": "ea32f914",
   "metadata": {},
   "outputs": [
    {
     "name": "stderr",
     "output_type": "stream",
     "text": [
      "C:\\Users\\Ivan\\AppData\\Local\\Temp\\ipykernel_6628\\161431047.py:17: UserWarning: Implicit dimension choice for log_softmax has been deprecated. Change the call to include dim=X as an argument.\n",
      "  return F.log_softmax(x)\n"
     ]
    },
    {
     "name": "stdout",
     "output_type": "stream",
     "text": [
      "\n",
      "Test set: Avg. loss: 0.0946, Accuracy: 9699/10000 (97%)\n",
      "\n",
      "Train Epoch: 1 [0/60000 (0%)]\tLoss: 0.266045\n",
      "Train Epoch: 1 [640/60000 (1%)]\tLoss: 0.259496\n",
      "Train Epoch: 1 [1280/60000 (2%)]\tLoss: 0.210092\n",
      "Train Epoch: 1 [1920/60000 (3%)]\tLoss: 0.191723\n",
      "Train Epoch: 1 [2560/60000 (4%)]\tLoss: 0.214150\n",
      "Train Epoch: 1 [3200/60000 (5%)]\tLoss: 0.233057\n",
      "Train Epoch: 1 [3840/60000 (6%)]\tLoss: 0.276564\n",
      "Train Epoch: 1 [4480/60000 (7%)]\tLoss: 0.322951\n",
      "Train Epoch: 1 [5120/60000 (9%)]\tLoss: 0.315641\n",
      "Train Epoch: 1 [5760/60000 (10%)]\tLoss: 0.215034\n",
      "Train Epoch: 1 [6400/60000 (11%)]\tLoss: 0.204696\n",
      "Train Epoch: 1 [7040/60000 (12%)]\tLoss: 0.172302\n",
      "Train Epoch: 1 [7680/60000 (13%)]\tLoss: 0.133764\n",
      "Train Epoch: 1 [8320/60000 (14%)]\tLoss: 0.152100\n",
      "Train Epoch: 1 [8960/60000 (15%)]\tLoss: 0.401158\n",
      "Train Epoch: 1 [9600/60000 (16%)]\tLoss: 0.215830\n",
      "Train Epoch: 1 [10240/60000 (17%)]\tLoss: 0.380972\n",
      "Train Epoch: 1 [10880/60000 (18%)]\tLoss: 0.381040\n",
      "Train Epoch: 1 [11520/60000 (19%)]\tLoss: 0.195144\n",
      "Train Epoch: 1 [12160/60000 (20%)]\tLoss: 0.156750\n",
      "Train Epoch: 1 [12800/60000 (21%)]\tLoss: 0.175331\n",
      "Train Epoch: 1 [13440/60000 (22%)]\tLoss: 0.285406\n",
      "Train Epoch: 1 [14080/60000 (23%)]\tLoss: 0.257725\n",
      "Train Epoch: 1 [14720/60000 (25%)]\tLoss: 0.521007\n",
      "Train Epoch: 1 [15360/60000 (26%)]\tLoss: 0.203994\n",
      "Train Epoch: 1 [16000/60000 (27%)]\tLoss: 0.177643\n",
      "Train Epoch: 1 [16640/60000 (28%)]\tLoss: 0.169970\n",
      "Train Epoch: 1 [17280/60000 (29%)]\tLoss: 0.236920\n",
      "Train Epoch: 1 [17920/60000 (30%)]\tLoss: 0.286686\n",
      "Train Epoch: 1 [18560/60000 (31%)]\tLoss: 0.244508\n",
      "Train Epoch: 1 [19200/60000 (32%)]\tLoss: 0.419327\n",
      "Train Epoch: 1 [19840/60000 (33%)]\tLoss: 0.251334\n",
      "Train Epoch: 1 [20480/60000 (34%)]\tLoss: 0.287600\n",
      "Train Epoch: 1 [21120/60000 (35%)]\tLoss: 0.284496\n",
      "Train Epoch: 1 [21760/60000 (36%)]\tLoss: 0.512237\n",
      "Train Epoch: 1 [22400/60000 (37%)]\tLoss: 0.345765\n",
      "Train Epoch: 1 [23040/60000 (38%)]\tLoss: 0.100747\n",
      "Train Epoch: 1 [23680/60000 (39%)]\tLoss: 0.423276\n",
      "Train Epoch: 1 [24320/60000 (41%)]\tLoss: 0.366349\n",
      "Train Epoch: 1 [24960/60000 (42%)]\tLoss: 0.277145\n",
      "Train Epoch: 1 [25600/60000 (43%)]\tLoss: 0.401182\n",
      "Train Epoch: 1 [26240/60000 (44%)]\tLoss: 0.121149\n",
      "Train Epoch: 1 [26880/60000 (45%)]\tLoss: 0.121753\n",
      "Train Epoch: 1 [27520/60000 (46%)]\tLoss: 0.535843\n",
      "Train Epoch: 1 [28160/60000 (47%)]\tLoss: 0.255608\n",
      "Train Epoch: 1 [28800/60000 (48%)]\tLoss: 0.288875\n",
      "Train Epoch: 1 [29440/60000 (49%)]\tLoss: 0.185644\n",
      "Train Epoch: 1 [30080/60000 (50%)]\tLoss: 0.185128\n",
      "Train Epoch: 1 [30720/60000 (51%)]\tLoss: 0.234890\n",
      "Train Epoch: 1 [31360/60000 (52%)]\tLoss: 0.252022\n",
      "Train Epoch: 1 [32000/60000 (53%)]\tLoss: 0.457724\n",
      "Train Epoch: 1 [32640/60000 (54%)]\tLoss: 0.112147\n",
      "Train Epoch: 1 [33280/60000 (55%)]\tLoss: 0.293930\n",
      "Train Epoch: 1 [33920/60000 (57%)]\tLoss: 0.321195\n",
      "Train Epoch: 1 [34560/60000 (58%)]\tLoss: 0.355675\n",
      "Train Epoch: 1 [35200/60000 (59%)]\tLoss: 0.205133\n",
      "Train Epoch: 1 [35840/60000 (60%)]\tLoss: 0.185761\n",
      "Train Epoch: 1 [36480/60000 (61%)]\tLoss: 0.445430\n",
      "Train Epoch: 1 [37120/60000 (62%)]\tLoss: 0.105266\n",
      "Train Epoch: 1 [37760/60000 (63%)]\tLoss: 0.158014\n",
      "Train Epoch: 1 [38400/60000 (64%)]\tLoss: 0.242722\n",
      "Train Epoch: 1 [39040/60000 (65%)]\tLoss: 0.332402\n",
      "Train Epoch: 1 [39680/60000 (66%)]\tLoss: 0.173465\n",
      "Train Epoch: 1 [40320/60000 (67%)]\tLoss: 0.728699\n",
      "Train Epoch: 1 [40960/60000 (68%)]\tLoss: 0.093829\n",
      "Train Epoch: 1 [41600/60000 (69%)]\tLoss: 0.232025\n",
      "Train Epoch: 1 [42240/60000 (70%)]\tLoss: 0.336305\n",
      "Train Epoch: 1 [42880/60000 (71%)]\tLoss: 0.260612\n",
      "Train Epoch: 1 [43520/60000 (72%)]\tLoss: 0.437157\n",
      "Train Epoch: 1 [44160/60000 (74%)]\tLoss: 0.169020\n",
      "Train Epoch: 1 [44800/60000 (75%)]\tLoss: 0.386533\n",
      "Train Epoch: 1 [45440/60000 (76%)]\tLoss: 0.401107\n",
      "Train Epoch: 1 [46080/60000 (77%)]\tLoss: 0.241802\n",
      "Train Epoch: 1 [46720/60000 (78%)]\tLoss: 0.377222\n",
      "Train Epoch: 1 [47360/60000 (79%)]\tLoss: 0.365960\n",
      "Train Epoch: 1 [48000/60000 (80%)]\tLoss: 0.230045\n",
      "Train Epoch: 1 [48640/60000 (81%)]\tLoss: 0.145176\n",
      "Train Epoch: 1 [49280/60000 (82%)]\tLoss: 0.236772\n",
      "Train Epoch: 1 [49920/60000 (83%)]\tLoss: 0.387510\n",
      "Train Epoch: 1 [50560/60000 (84%)]\tLoss: 0.252790\n",
      "Train Epoch: 1 [51200/60000 (85%)]\tLoss: 0.311880\n",
      "Train Epoch: 1 [51840/60000 (86%)]\tLoss: 0.075808\n",
      "Train Epoch: 1 [52480/60000 (87%)]\tLoss: 0.209809\n",
      "Train Epoch: 1 [53120/60000 (88%)]\tLoss: 0.183671\n",
      "Train Epoch: 1 [53760/60000 (90%)]\tLoss: 0.283096\n",
      "Train Epoch: 1 [54400/60000 (91%)]\tLoss: 0.340043\n",
      "Train Epoch: 1 [55040/60000 (92%)]\tLoss: 0.175408\n",
      "Train Epoch: 1 [55680/60000 (93%)]\tLoss: 0.248872\n",
      "Train Epoch: 1 [56320/60000 (94%)]\tLoss: 0.098750\n",
      "Train Epoch: 1 [56960/60000 (95%)]\tLoss: 0.112470\n",
      "Train Epoch: 1 [57600/60000 (96%)]\tLoss: 0.406940\n",
      "Train Epoch: 1 [58240/60000 (97%)]\tLoss: 0.453569\n",
      "Train Epoch: 1 [58880/60000 (98%)]\tLoss: 0.177601\n",
      "Train Epoch: 1 [59520/60000 (99%)]\tLoss: 0.290422\n",
      "\n",
      "Test set: Avg. loss: 0.0795, Accuracy: 9742/10000 (97%)\n",
      "\n",
      "Train Epoch: 2 [0/60000 (0%)]\tLoss: 0.223293\n",
      "Train Epoch: 2 [640/60000 (1%)]\tLoss: 0.397016\n",
      "Train Epoch: 2 [1280/60000 (2%)]\tLoss: 0.206232\n",
      "Train Epoch: 2 [1920/60000 (3%)]\tLoss: 0.285273\n",
      "Train Epoch: 2 [2560/60000 (4%)]\tLoss: 0.138781\n",
      "Train Epoch: 2 [3200/60000 (5%)]\tLoss: 0.222121\n",
      "Train Epoch: 2 [3840/60000 (6%)]\tLoss: 0.304336\n",
      "Train Epoch: 2 [4480/60000 (7%)]\tLoss: 0.291418\n",
      "Train Epoch: 2 [5120/60000 (9%)]\tLoss: 0.268722\n",
      "Train Epoch: 2 [5760/60000 (10%)]\tLoss: 0.323074\n",
      "Train Epoch: 2 [6400/60000 (11%)]\tLoss: 0.495282\n",
      "Train Epoch: 2 [7040/60000 (12%)]\tLoss: 0.249295\n",
      "Train Epoch: 2 [7680/60000 (13%)]\tLoss: 0.142339\n",
      "Train Epoch: 2 [8320/60000 (14%)]\tLoss: 0.354932\n",
      "Train Epoch: 2 [8960/60000 (15%)]\tLoss: 0.157924\n",
      "Train Epoch: 2 [9600/60000 (16%)]\tLoss: 0.247271\n",
      "Train Epoch: 2 [10240/60000 (17%)]\tLoss: 0.286345\n",
      "Train Epoch: 2 [10880/60000 (18%)]\tLoss: 0.175323\n",
      "Train Epoch: 2 [11520/60000 (19%)]\tLoss: 0.158780\n",
      "Train Epoch: 2 [12160/60000 (20%)]\tLoss: 0.266701\n",
      "Train Epoch: 2 [12800/60000 (21%)]\tLoss: 0.341059\n",
      "Train Epoch: 2 [13440/60000 (22%)]\tLoss: 0.215267\n",
      "Train Epoch: 2 [14080/60000 (23%)]\tLoss: 0.118046\n",
      "Train Epoch: 2 [14720/60000 (25%)]\tLoss: 0.187696\n",
      "Train Epoch: 2 [15360/60000 (26%)]\tLoss: 0.259463\n",
      "Train Epoch: 2 [16000/60000 (27%)]\tLoss: 0.352101\n",
      "Train Epoch: 2 [16640/60000 (28%)]\tLoss: 0.317446\n",
      "Train Epoch: 2 [17280/60000 (29%)]\tLoss: 0.139180\n",
      "Train Epoch: 2 [17920/60000 (30%)]\tLoss: 0.103881\n",
      "Train Epoch: 2 [18560/60000 (31%)]\tLoss: 0.203696\n",
      "Train Epoch: 2 [19200/60000 (32%)]\tLoss: 0.162421\n",
      "Train Epoch: 2 [19840/60000 (33%)]\tLoss: 0.319872\n",
      "Train Epoch: 2 [20480/60000 (34%)]\tLoss: 0.234159\n",
      "Train Epoch: 2 [21120/60000 (35%)]\tLoss: 0.153141\n",
      "Train Epoch: 2 [21760/60000 (36%)]\tLoss: 0.363232\n",
      "Train Epoch: 2 [22400/60000 (37%)]\tLoss: 0.140423\n",
      "Train Epoch: 2 [23040/60000 (38%)]\tLoss: 0.505063\n",
      "Train Epoch: 2 [23680/60000 (39%)]\tLoss: 0.154842\n",
      "Train Epoch: 2 [24320/60000 (41%)]\tLoss: 0.291198\n",
      "Train Epoch: 2 [24960/60000 (42%)]\tLoss: 0.251520\n",
      "Train Epoch: 2 [25600/60000 (43%)]\tLoss: 0.225972\n",
      "Train Epoch: 2 [26240/60000 (44%)]\tLoss: 0.187379\n",
      "Train Epoch: 2 [26880/60000 (45%)]\tLoss: 0.059630\n",
      "Train Epoch: 2 [27520/60000 (46%)]\tLoss: 0.250354\n",
      "Train Epoch: 2 [28160/60000 (47%)]\tLoss: 0.164090\n",
      "Train Epoch: 2 [28800/60000 (48%)]\tLoss: 0.089115\n",
      "Train Epoch: 2 [29440/60000 (49%)]\tLoss: 0.248188\n",
      "Train Epoch: 2 [30080/60000 (50%)]\tLoss: 0.205682\n",
      "Train Epoch: 2 [30720/60000 (51%)]\tLoss: 0.309753\n",
      "Train Epoch: 2 [31360/60000 (52%)]\tLoss: 0.388973\n",
      "Train Epoch: 2 [32000/60000 (53%)]\tLoss: 0.121901\n",
      "Train Epoch: 2 [32640/60000 (54%)]\tLoss: 0.331801\n",
      "Train Epoch: 2 [33280/60000 (55%)]\tLoss: 0.231325\n",
      "Train Epoch: 2 [33920/60000 (57%)]\tLoss: 0.083793\n",
      "Train Epoch: 2 [34560/60000 (58%)]\tLoss: 0.349299\n",
      "Train Epoch: 2 [35200/60000 (59%)]\tLoss: 0.234668\n",
      "Train Epoch: 2 [35840/60000 (60%)]\tLoss: 0.098178\n",
      "Train Epoch: 2 [36480/60000 (61%)]\tLoss: 0.190171\n",
      "Train Epoch: 2 [37120/60000 (62%)]\tLoss: 0.196837\n",
      "Train Epoch: 2 [37760/60000 (63%)]\tLoss: 0.205537\n",
      "Train Epoch: 2 [38400/60000 (64%)]\tLoss: 0.315063\n",
      "Train Epoch: 2 [39040/60000 (65%)]\tLoss: 0.105006\n",
      "Train Epoch: 2 [39680/60000 (66%)]\tLoss: 0.215533\n",
      "Train Epoch: 2 [40320/60000 (67%)]\tLoss: 0.286185\n",
      "Train Epoch: 2 [40960/60000 (68%)]\tLoss: 0.204050\n",
      "Train Epoch: 2 [41600/60000 (69%)]\tLoss: 0.250487\n",
      "Train Epoch: 2 [42240/60000 (70%)]\tLoss: 0.138930\n",
      "Train Epoch: 2 [42880/60000 (71%)]\tLoss: 0.176666\n",
      "Train Epoch: 2 [43520/60000 (72%)]\tLoss: 0.423032\n",
      "Train Epoch: 2 [44160/60000 (74%)]\tLoss: 0.325881\n"
     ]
    },
    {
     "name": "stdout",
     "output_type": "stream",
     "text": [
      "Train Epoch: 2 [44800/60000 (75%)]\tLoss: 0.202738\n",
      "Train Epoch: 2 [45440/60000 (76%)]\tLoss: 0.220903\n",
      "Train Epoch: 2 [46080/60000 (77%)]\tLoss: 0.306050\n",
      "Train Epoch: 2 [46720/60000 (78%)]\tLoss: 0.192520\n",
      "Train Epoch: 2 [47360/60000 (79%)]\tLoss: 0.207728\n",
      "Train Epoch: 2 [48000/60000 (80%)]\tLoss: 0.483600\n",
      "Train Epoch: 2 [48640/60000 (81%)]\tLoss: 0.106372\n",
      "Train Epoch: 2 [49280/60000 (82%)]\tLoss: 0.378551\n",
      "Train Epoch: 2 [49920/60000 (83%)]\tLoss: 0.069147\n",
      "Train Epoch: 2 [50560/60000 (84%)]\tLoss: 0.225208\n",
      "Train Epoch: 2 [51200/60000 (85%)]\tLoss: 0.315321\n",
      "Train Epoch: 2 [51840/60000 (86%)]\tLoss: 0.192449\n",
      "Train Epoch: 2 [52480/60000 (87%)]\tLoss: 0.175011\n",
      "Train Epoch: 2 [53120/60000 (88%)]\tLoss: 0.149272\n",
      "Train Epoch: 2 [53760/60000 (90%)]\tLoss: 0.111918\n",
      "Train Epoch: 2 [54400/60000 (91%)]\tLoss: 0.185542\n",
      "Train Epoch: 2 [55040/60000 (92%)]\tLoss: 0.158028\n",
      "Train Epoch: 2 [55680/60000 (93%)]\tLoss: 0.248377\n",
      "Train Epoch: 2 [56320/60000 (94%)]\tLoss: 0.184221\n",
      "Train Epoch: 2 [56960/60000 (95%)]\tLoss: 0.134723\n",
      "Train Epoch: 2 [57600/60000 (96%)]\tLoss: 0.144438\n",
      "Train Epoch: 2 [58240/60000 (97%)]\tLoss: 0.481236\n",
      "Train Epoch: 2 [58880/60000 (98%)]\tLoss: 0.198153\n",
      "Train Epoch: 2 [59520/60000 (99%)]\tLoss: 0.108811\n",
      "\n",
      "Test set: Avg. loss: 0.0693, Accuracy: 9779/10000 (98%)\n",
      "\n",
      "Train Epoch: 3 [0/60000 (0%)]\tLoss: 0.408177\n",
      "Train Epoch: 3 [640/60000 (1%)]\tLoss: 0.248500\n",
      "Train Epoch: 3 [1280/60000 (2%)]\tLoss: 0.142863\n",
      "Train Epoch: 3 [1920/60000 (3%)]\tLoss: 0.206503\n",
      "Train Epoch: 3 [2560/60000 (4%)]\tLoss: 0.424772\n",
      "Train Epoch: 3 [3200/60000 (5%)]\tLoss: 0.305142\n",
      "Train Epoch: 3 [3840/60000 (6%)]\tLoss: 0.290227\n",
      "Train Epoch: 3 [4480/60000 (7%)]\tLoss: 0.193354\n",
      "Train Epoch: 3 [5120/60000 (9%)]\tLoss: 0.182478\n",
      "Train Epoch: 3 [5760/60000 (10%)]\tLoss: 0.207358\n",
      "Train Epoch: 3 [6400/60000 (11%)]\tLoss: 0.194286\n",
      "Train Epoch: 3 [7040/60000 (12%)]\tLoss: 0.225543\n",
      "Train Epoch: 3 [7680/60000 (13%)]\tLoss: 0.162510\n",
      "Train Epoch: 3 [8320/60000 (14%)]\tLoss: 0.226244\n",
      "Train Epoch: 3 [8960/60000 (15%)]\tLoss: 0.090631\n",
      "Train Epoch: 3 [9600/60000 (16%)]\tLoss: 0.548208\n",
      "Train Epoch: 3 [10240/60000 (17%)]\tLoss: 0.278615\n",
      "Train Epoch: 3 [10880/60000 (18%)]\tLoss: 0.183719\n",
      "Train Epoch: 3 [11520/60000 (19%)]\tLoss: 0.211823\n",
      "Train Epoch: 3 [12160/60000 (20%)]\tLoss: 0.199271\n",
      "Train Epoch: 3 [12800/60000 (21%)]\tLoss: 0.233733\n",
      "Train Epoch: 3 [13440/60000 (22%)]\tLoss: 0.103522\n",
      "Train Epoch: 3 [14080/60000 (23%)]\tLoss: 0.160261\n",
      "Train Epoch: 3 [14720/60000 (25%)]\tLoss: 0.114533\n",
      "Train Epoch: 3 [15360/60000 (26%)]\tLoss: 0.107480\n",
      "Train Epoch: 3 [16000/60000 (27%)]\tLoss: 0.211065\n",
      "Train Epoch: 3 [16640/60000 (28%)]\tLoss: 0.125157\n",
      "Train Epoch: 3 [17280/60000 (29%)]\tLoss: 0.243659\n",
      "Train Epoch: 3 [17920/60000 (30%)]\tLoss: 0.140737\n",
      "Train Epoch: 3 [18560/60000 (31%)]\tLoss: 0.222264\n",
      "Train Epoch: 3 [19200/60000 (32%)]\tLoss: 0.052784\n",
      "Train Epoch: 3 [19840/60000 (33%)]\tLoss: 0.175399\n",
      "Train Epoch: 3 [20480/60000 (34%)]\tLoss: 0.191279\n",
      "Train Epoch: 3 [21120/60000 (35%)]\tLoss: 0.232790\n",
      "Train Epoch: 3 [21760/60000 (36%)]\tLoss: 0.209734\n",
      "Train Epoch: 3 [22400/60000 (37%)]\tLoss: 0.114707\n",
      "Train Epoch: 3 [23040/60000 (38%)]\tLoss: 0.230735\n",
      "Train Epoch: 3 [23680/60000 (39%)]\tLoss: 0.155814\n",
      "Train Epoch: 3 [24320/60000 (41%)]\tLoss: 0.133283\n",
      "Train Epoch: 3 [24960/60000 (42%)]\tLoss: 0.345251\n",
      "Train Epoch: 3 [25600/60000 (43%)]\tLoss: 0.916432\n",
      "Train Epoch: 3 [26240/60000 (44%)]\tLoss: 0.478236\n",
      "Train Epoch: 3 [26880/60000 (45%)]\tLoss: 0.214856\n",
      "Train Epoch: 3 [27520/60000 (46%)]\tLoss: 0.187521\n",
      "Train Epoch: 3 [28160/60000 (47%)]\tLoss: 0.164870\n",
      "Train Epoch: 3 [28800/60000 (48%)]\tLoss: 0.348665\n",
      "Train Epoch: 3 [29440/60000 (49%)]\tLoss: 0.239971\n",
      "Train Epoch: 3 [30080/60000 (50%)]\tLoss: 0.228985\n",
      "Train Epoch: 3 [30720/60000 (51%)]\tLoss: 0.312506\n",
      "Train Epoch: 3 [31360/60000 (52%)]\tLoss: 0.174040\n",
      "Train Epoch: 3 [32000/60000 (53%)]\tLoss: 0.203189\n",
      "Train Epoch: 3 [32640/60000 (54%)]\tLoss: 0.235607\n",
      "Train Epoch: 3 [33280/60000 (55%)]\tLoss: 0.103557\n",
      "Train Epoch: 3 [33920/60000 (57%)]\tLoss: 0.210851\n",
      "Train Epoch: 3 [34560/60000 (58%)]\tLoss: 0.186729\n",
      "Train Epoch: 3 [35200/60000 (59%)]\tLoss: 0.095431\n",
      "Train Epoch: 3 [35840/60000 (60%)]\tLoss: 0.447520\n",
      "Train Epoch: 3 [36480/60000 (61%)]\tLoss: 0.152674\n",
      "Train Epoch: 3 [37120/60000 (62%)]\tLoss: 0.175263\n",
      "Train Epoch: 3 [37760/60000 (63%)]\tLoss: 0.104276\n",
      "Train Epoch: 3 [38400/60000 (64%)]\tLoss: 0.263299\n",
      "Train Epoch: 3 [39040/60000 (65%)]\tLoss: 0.316158\n",
      "Train Epoch: 3 [39680/60000 (66%)]\tLoss: 0.236253\n",
      "Train Epoch: 3 [40320/60000 (67%)]\tLoss: 0.209712\n",
      "Train Epoch: 3 [40960/60000 (68%)]\tLoss: 0.241441\n",
      "Train Epoch: 3 [41600/60000 (69%)]\tLoss: 0.129298\n",
      "Train Epoch: 3 [42240/60000 (70%)]\tLoss: 0.215576\n",
      "Train Epoch: 3 [42880/60000 (71%)]\tLoss: 0.069509\n",
      "Train Epoch: 3 [43520/60000 (72%)]\tLoss: 0.154741\n",
      "Train Epoch: 3 [44160/60000 (74%)]\tLoss: 0.186931\n",
      "Train Epoch: 3 [44800/60000 (75%)]\tLoss: 0.232338\n",
      "Train Epoch: 3 [45440/60000 (76%)]\tLoss: 0.081869\n",
      "Train Epoch: 3 [46080/60000 (77%)]\tLoss: 0.185771\n",
      "Train Epoch: 3 [46720/60000 (78%)]\tLoss: 0.131379\n",
      "Train Epoch: 3 [47360/60000 (79%)]\tLoss: 0.163006\n",
      "Train Epoch: 3 [48000/60000 (80%)]\tLoss: 0.153134\n",
      "Train Epoch: 3 [48640/60000 (81%)]\tLoss: 0.169079\n",
      "Train Epoch: 3 [49280/60000 (82%)]\tLoss: 0.134497\n",
      "Train Epoch: 3 [49920/60000 (83%)]\tLoss: 0.154649\n",
      "Train Epoch: 3 [50560/60000 (84%)]\tLoss: 0.226442\n",
      "Train Epoch: 3 [51200/60000 (85%)]\tLoss: 0.445923\n",
      "Train Epoch: 3 [51840/60000 (86%)]\tLoss: 0.085437\n",
      "Train Epoch: 3 [52480/60000 (87%)]\tLoss: 0.314645\n",
      "Train Epoch: 3 [53120/60000 (88%)]\tLoss: 0.147285\n",
      "Train Epoch: 3 [53760/60000 (90%)]\tLoss: 0.212979\n",
      "Train Epoch: 3 [54400/60000 (91%)]\tLoss: 0.163906\n",
      "Train Epoch: 3 [55040/60000 (92%)]\tLoss: 0.130348\n",
      "Train Epoch: 3 [55680/60000 (93%)]\tLoss: 0.250687\n",
      "Train Epoch: 3 [56320/60000 (94%)]\tLoss: 0.213750\n",
      "Train Epoch: 3 [56960/60000 (95%)]\tLoss: 0.127131\n",
      "Train Epoch: 3 [57600/60000 (96%)]\tLoss: 0.175300\n",
      "Train Epoch: 3 [58240/60000 (97%)]\tLoss: 0.274038\n",
      "Train Epoch: 3 [58880/60000 (98%)]\tLoss: 0.172912\n",
      "Train Epoch: 3 [59520/60000 (99%)]\tLoss: 0.149101\n",
      "\n",
      "Test set: Avg. loss: 0.0622, Accuracy: 9795/10000 (98%)\n",
      "\n"
     ]
    }
   ],
   "source": [
    "test()\n",
    "for epoch in range(1, n_epochs + 1):\n",
    "  train(epoch)\n",
    "  test()"
   ]
  },
  {
   "cell_type": "code",
   "execution_count": 57,
   "id": "2585ef67",
   "metadata": {},
   "outputs": [
    {
     "data": {
      "text/plain": [
       "Text(0, 0.5, 'negative log likelihood loss')"
      ]
     },
     "execution_count": 57,
     "metadata": {},
     "output_type": "execute_result"
    },
    {
     "data": {
      "image/png": "[encoded data removed]",
      "text/plain": [
       "<Figure size 640x480 with 1 Axes>"
      ]
     },
     "metadata": {},
     "output_type": "display_data"
    }
   ],
   "source": [
    "fig = plt.figure()\n",
    "plt.plot(train_counter, train_losses, color='blue')\n",
    "plt.scatter(test_counter, test_losses, color='red')\n",
    "plt.legend(['Train Loss', 'Test Loss'], loc='upper right')\n",
    "plt.xlabel('number of training examples seen')\n",
    "plt.ylabel('negative log likelihood loss')"
   ]
  },
  {
   "cell_type": "code",
   "execution_count": null,
   "id": "0140901a",
   "metadata": {},
   "outputs": [],
   "source": []
  }
 ],
 "metadata": {
  "kernelspec": {
   "display_name": "Python 3 (ipykernel)",
   "language": "python",
   "name": "python3"
  },
  "language_info": {
   "codemirror_mode": {
    "name": "ipython",
    "version": 3
   },
   "file_extension": ".py",
   "mimetype": "text/x-python",
   "name": "python",
   "nbconvert_exporter": "python",
   "pygments_lexer": "ipython3",
   "version": "3.10.9"
  }
 },
 "nbformat": 4,
 "nbformat_minor": 5
}
