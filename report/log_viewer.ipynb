{
 "cells": [
  {
   "cell_type": "code",
   "execution_count": 2,
   "metadata": {},
   "outputs": [],
   "source": [
    "import pandas as pd"
   ]
  },
  {
   "cell_type": "code",
   "execution_count": 52,
   "metadata": {},
   "outputs": [],
   "source": [
    "folder = './OS_NN/postop'\n",
    "file = '/nn_gs_log.csv'\n",
    "\n",
    "df = pd.read_csv(folder + file)\n",
    "df['name_id'] = df['name'][:-2]"
   ]
  },
  {
   "cell_type": "code",
   "execution_count": 53,
   "metadata": {},
   "outputs": [
    {
     "data": {
      "text/html": [
       "<div>\n",
       "<style scoped>\n",
       "    .dataframe tbody tr th:only-of-type {\n",
       "        vertical-align: middle;\n",
       "    }\n",
       "\n",
       "    .dataframe tbody tr th {\n",
       "        vertical-align: top;\n",
       "    }\n",
       "\n",
       "    .dataframe thead th {\n",
       "        text-align: right;\n",
       "    }\n",
       "</style>\n",
       "<table border=\"1\" class=\"dataframe\">\n",
       "  <thead>\n",
       "    <tr style=\"text-align: right;\">\n",
       "      <th></th>\n",
       "      <th>train_accuracy</th>\n",
       "      <th>train_loss</th>\n",
       "      <th>val_accuracy</th>\n",
       "      <th>val_loss</th>\n",
       "      <th>average_val_accuracy</th>\n",
       "      <th>average_val_loss</th>\n",
       "      <th>name</th>\n",
       "      <th>name_id</th>\n",
       "    </tr>\n",
       "  </thead>\n",
       "  <tbody>\n",
       "    <tr>\n",
       "      <th>115</th>\n",
       "      <td>0.689139</td>\n",
       "      <td>0.725992</td>\n",
       "      <td>0.821429</td>\n",
       "      <td>0.591114</td>\n",
       "      <td>0.841763</td>\n",
       "      <td>0.519265</td>\n",
       "      <td>512_[512, 256, 128]_0.2_SGD_sparse_categorical...</td>\n",
       "      <td>512_[512, 256, 128]_0.2_SGD_sparse_categorical...</td>\n",
       "    </tr>\n",
       "    <tr>\n",
       "      <th>116</th>\n",
       "      <td>0.597572</td>\n",
       "      <td>0.813007</td>\n",
       "      <td>0.837838</td>\n",
       "      <td>0.539577</td>\n",
       "      <td>0.841763</td>\n",
       "      <td>0.519265</td>\n",
       "      <td>512_[512, 256, 128]_0.2_SGD_sparse_categorical...</td>\n",
       "      <td>512_[512, 256, 128]_0.2_SGD_sparse_categorical...</td>\n",
       "    </tr>\n",
       "    <tr>\n",
       "      <th>117</th>\n",
       "      <td>0.661064</td>\n",
       "      <td>0.763637</td>\n",
       "      <td>0.846847</td>\n",
       "      <td>0.472122</td>\n",
       "      <td>0.841763</td>\n",
       "      <td>0.519265</td>\n",
       "      <td>512_[512, 256, 128]_0.2_SGD_sparse_categorical...</td>\n",
       "      <td>512_[512, 256, 128]_0.2_SGD_sparse_categorical...</td>\n",
       "    </tr>\n",
       "    <tr>\n",
       "      <th>118</th>\n",
       "      <td>0.641457</td>\n",
       "      <td>0.782433</td>\n",
       "      <td>0.873874</td>\n",
       "      <td>0.493276</td>\n",
       "      <td>0.841763</td>\n",
       "      <td>0.519265</td>\n",
       "      <td>512_[512, 256, 128]_0.2_SGD_sparse_categorical...</td>\n",
       "      <td>512_[512, 256, 128]_0.2_SGD_sparse_categorical...</td>\n",
       "    </tr>\n",
       "    <tr>\n",
       "      <th>119</th>\n",
       "      <td>0.658263</td>\n",
       "      <td>0.776171</td>\n",
       "      <td>0.828829</td>\n",
       "      <td>0.500237</td>\n",
       "      <td>0.841763</td>\n",
       "      <td>0.519265</td>\n",
       "      <td>512_[512, 256, 128]_0.2_SGD_sparse_categorical...</td>\n",
       "      <td>512_[512, 256, 128]_0.2_SGD_sparse_categorical...</td>\n",
       "    </tr>\n",
       "  </tbody>\n",
       "</table>\n",
       "</div>"
      ],
      "text/plain": [
       "     train_accuracy  train_loss  val_accuracy  val_loss  average_val_accuracy  \\\n",
       "115        0.689139    0.725992      0.821429  0.591114              0.841763   \n",
       "116        0.597572    0.813007      0.837838  0.539577              0.841763   \n",
       "117        0.661064    0.763637      0.846847  0.472122              0.841763   \n",
       "118        0.641457    0.782433      0.873874  0.493276              0.841763   \n",
       "119        0.658263    0.776171      0.828829  0.500237              0.841763   \n",
       "\n",
       "     average_val_loss                                               name  \\\n",
       "115          0.519265  512_[512, 256, 128]_0.2_SGD_sparse_categorical...   \n",
       "116          0.519265  512_[512, 256, 128]_0.2_SGD_sparse_categorical...   \n",
       "117          0.519265  512_[512, 256, 128]_0.2_SGD_sparse_categorical...   \n",
       "118          0.519265  512_[512, 256, 128]_0.2_SGD_sparse_categorical...   \n",
       "119          0.519265  512_[512, 256, 128]_0.2_SGD_sparse_categorical...   \n",
       "\n",
       "                                               name_id  \n",
       "115  512_[512, 256, 128]_0.2_SGD_sparse_categorical...  \n",
       "116  512_[512, 256, 128]_0.2_SGD_sparse_categorical...  \n",
       "117  512_[512, 256, 128]_0.2_SGD_sparse_categorical...  \n",
       "118  512_[512, 256, 128]_0.2_SGD_sparse_categorical...  \n",
       "119  512_[512, 256, 128]_0.2_SGD_sparse_categorical...  "
      ]
     },
     "execution_count": 53,
     "metadata": {},
     "output_type": "execute_result"
    }
   ],
   "source": [
    "df.sort_values(by=['average_val_accuracy', 'average_val_loss'], ascending=False).head()"
   ]
  }
 ],
 "metadata": {
  "kernelspec": {
   "display_name": "mlp",
   "language": "python",
   "name": "python3"
  },
  "language_info": {
   "codemirror_mode": {
    "name": "ipython",
    "version": 3
   },
   "file_extension": ".py",
   "mimetype": "text/x-python",
   "name": "python",
   "nbconvert_exporter": "python",
   "pygments_lexer": "ipython3",
   "version": "3.10.9"
  },
  "orig_nbformat": 4
 },
 "nbformat": 4,
 "nbformat_minor": 2
}
