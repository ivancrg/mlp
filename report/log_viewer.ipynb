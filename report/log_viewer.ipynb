{
 "cells": [
  {
   "cell_type": "code",
   "execution_count": 3,
   "metadata": {},
   "outputs": [],
   "source": [
    "import pandas as pd"
   ]
  },
  {
   "cell_type": "code",
   "execution_count": 7,
   "metadata": {},
   "outputs": [],
   "source": [
    "folder = './OS_NN/postop_binary'\n",
    "file = '/nn_gs_log.csv'\n",
    "\n",
    "df = pd.read_csv(folder + file)\n",
    "df['name_id'] = df['name'][:-2]"
   ]
  },
  {
   "cell_type": "code",
   "execution_count": 8,
   "metadata": {},
   "outputs": [
    {
     "data": {
      "text/html": [
       "<div>\n",
       "<style scoped>\n",
       "    .dataframe tbody tr th:only-of-type {\n",
       "        vertical-align: middle;\n",
       "    }\n",
       "\n",
       "    .dataframe tbody tr th {\n",
       "        vertical-align: top;\n",
       "    }\n",
       "\n",
       "    .dataframe thead th {\n",
       "        text-align: right;\n",
       "    }\n",
       "</style>\n",
       "<table border=\"1\" class=\"dataframe\">\n",
       "  <thead>\n",
       "    <tr style=\"text-align: right;\">\n",
       "      <th></th>\n",
       "      <th>train_accuracy</th>\n",
       "      <th>train_loss</th>\n",
       "      <th>val_accuracy</th>\n",
       "      <th>val_loss</th>\n",
       "      <th>name</th>\n",
       "      <th>name_id</th>\n",
       "    </tr>\n",
       "  </thead>\n",
       "  <tbody>\n",
       "    <tr>\n",
       "      <th>8</th>\n",
       "      <td>0.571429</td>\n",
       "      <td>0.831326</td>\n",
       "      <td>0.936937</td>\n",
       "      <td>0.543683</td>\n",
       "      <td>512_[512, 256, 128]_0.1_Adam_0.1_3</td>\n",
       "      <td>512_[512, 256, 128]_0.1_Adam_0.1_3</td>\n",
       "    </tr>\n",
       "    <tr>\n",
       "      <th>203</th>\n",
       "      <td>0.777311</td>\n",
       "      <td>0.471325</td>\n",
       "      <td>0.936937</td>\n",
       "      <td>0.322981</td>\n",
       "      <td>512_[512, 256, 128]_0.05_AdamW_0.1_3</td>\n",
       "      <td>512_[512, 256, 128]_0.05_AdamW_0.1_3</td>\n",
       "    </tr>\n",
       "    <tr>\n",
       "      <th>108</th>\n",
       "      <td>0.782913</td>\n",
       "      <td>0.477363</td>\n",
       "      <td>0.936937</td>\n",
       "      <td>0.286932</td>\n",
       "      <td>512_[512, 256, 128]_0.1_SGD_0.1_3</td>\n",
       "      <td>512_[512, 256, 128]_0.1_SGD_0.1_3</td>\n",
       "    </tr>\n",
       "    <tr>\n",
       "      <th>253</th>\n",
       "      <td>0.896359</td>\n",
       "      <td>0.229425</td>\n",
       "      <td>0.936937</td>\n",
       "      <td>0.223297</td>\n",
       "      <td>512_[512, 256, 128]_0.15000000000000002_AdamW_...</td>\n",
       "      <td>512_[512, 256, 128]_0.15000000000000002_AdamW_...</td>\n",
       "    </tr>\n",
       "    <tr>\n",
       "      <th>23</th>\n",
       "      <td>0.904762</td>\n",
       "      <td>0.225901</td>\n",
       "      <td>0.936937</td>\n",
       "      <td>0.217242</td>\n",
       "      <td>512_[512, 256, 128]_0.05_Adam_0.01_3</td>\n",
       "      <td>512_[512, 256, 128]_0.05_Adam_0.01_3</td>\n",
       "    </tr>\n",
       "  </tbody>\n",
       "</table>\n",
       "</div>"
      ],
      "text/plain": [
       "     train_accuracy  train_loss  val_accuracy  val_loss   \n",
       "8          0.571429    0.831326      0.936937  0.543683  \\\n",
       "203        0.777311    0.471325      0.936937  0.322981   \n",
       "108        0.782913    0.477363      0.936937  0.286932   \n",
       "253        0.896359    0.229425      0.936937  0.223297   \n",
       "23         0.904762    0.225901      0.936937  0.217242   \n",
       "\n",
       "                                                  name   \n",
       "8                   512_[512, 256, 128]_0.1_Adam_0.1_3  \\\n",
       "203               512_[512, 256, 128]_0.05_AdamW_0.1_3   \n",
       "108                  512_[512, 256, 128]_0.1_SGD_0.1_3   \n",
       "253  512_[512, 256, 128]_0.15000000000000002_AdamW_...   \n",
       "23                512_[512, 256, 128]_0.05_Adam_0.01_3   \n",
       "\n",
       "                                               name_id  \n",
       "8                   512_[512, 256, 128]_0.1_Adam_0.1_3  \n",
       "203               512_[512, 256, 128]_0.05_AdamW_0.1_3  \n",
       "108                  512_[512, 256, 128]_0.1_SGD_0.1_3  \n",
       "253  512_[512, 256, 128]_0.15000000000000002_AdamW_...  \n",
       "23                512_[512, 256, 128]_0.05_Adam_0.01_3  "
      ]
     },
     "execution_count": 8,
     "metadata": {},
     "output_type": "execute_result"
    }
   ],
   "source": [
    "df.sort_values(by=['val_accuracy', 'val_loss', 'train_accuracy', 'train_loss'], ascending=False).head()"
   ]
  },
  {
   "cell_type": "code",
   "execution_count": null,
   "metadata": {},
   "outputs": [],
   "source": []
  }
 ],
 "metadata": {
  "kernelspec": {
   "display_name": "mlp",
   "language": "python",
   "name": "python3"
  },
  "language_info": {
   "codemirror_mode": {
    "name": "ipython",
    "version": 3
   },
   "file_extension": ".py",
   "mimetype": "text/x-python",
   "name": "python",
   "nbconvert_exporter": "python",
   "pygments_lexer": "ipython3",
   "version": "3.8.10"
  },
  "orig_nbformat": 4
 },
 "nbformat": 4,
 "nbformat_minor": 2
}
