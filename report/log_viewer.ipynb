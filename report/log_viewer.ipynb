{
 "cells": [
  {
   "cell_type": "code",
   "execution_count": 69,
   "metadata": {},
   "outputs": [],
   "source": [
    "import pandas as pd"
   ]
  },
  {
   "cell_type": "code",
   "execution_count": 121,
   "metadata": {},
   "outputs": [
    {
     "name": "stdout",
     "output_type": "stream",
     "text": [
      "1000\n",
      "1000\n"
     ]
    }
   ],
   "source": [
    "folder = '/postop_binary'\n",
    "file = '/nn_gs_log.csv'\n",
    "\n",
    "df = pd.read_csv('./NO_OS' + folder + file)\n",
    "df_os = pd.read_csv('./OS_NN' + folder + file)\n",
    "\n",
    "print(len(df))\n",
    "print(len(df_os))"
   ]
  },
  {
   "cell_type": "code",
   "execution_count": 122,
   "metadata": {},
   "outputs": [],
   "source": [
    "df = df.sort_values(by=['average_val_accuracy', 'average_val_loss'], ascending=False).head()\n",
    "df_os = df_os.sort_values(by=['average_val_accuracy', 'average_val_loss'], ascending=False).head()"
   ]
  },
  {
   "cell_type": "code",
   "execution_count": 123,
   "metadata": {},
   "outputs": [
    {
     "name": "stdout",
     "output_type": "stream",
     "text": [
      "OPTIMIZER='SGD'\n",
      "LEARNING_RATE=0.1\n",
      "INPUT_LAYER=512\n",
      "HIDDEN_LAYERS=[512, 256, 128]\n",
      "DROPOUT=0.15000000000000002\n",
      "LOSS='categorical_crossentropy'\n"
     ]
    },
    {
     "data": {
      "text/html": [
       "<div>\n",
       "<style scoped>\n",
       "    .dataframe tbody tr th:only-of-type {\n",
       "        vertical-align: middle;\n",
       "    }\n",
       "\n",
       "    .dataframe tbody tr th {\n",
       "        vertical-align: top;\n",
       "    }\n",
       "\n",
       "    .dataframe thead th {\n",
       "        text-align: right;\n",
       "    }\n",
       "</style>\n",
       "<table border=\"1\" class=\"dataframe\">\n",
       "  <thead>\n",
       "    <tr style=\"text-align: right;\">\n",
       "      <th></th>\n",
       "      <th>train_accuracy</th>\n",
       "      <th>train_loss</th>\n",
       "      <th>val_accuracy</th>\n",
       "      <th>val_loss</th>\n",
       "      <th>average_val_accuracy</th>\n",
       "      <th>average_val_loss</th>\n",
       "      <th>name</th>\n",
       "    </tr>\n",
       "  </thead>\n",
       "  <tbody>\n",
       "    <tr>\n",
       "      <th>610</th>\n",
       "      <td>0.779494</td>\n",
       "      <td>0.462816</td>\n",
       "      <td>0.875000</td>\n",
       "      <td>0.374886</td>\n",
       "      <td>0.895721</td>\n",
       "      <td>0.334372</td>\n",
       "      <td>512_[512, 256, 128]_0.15000000000000002_SGD_ca...</td>\n",
       "    </tr>\n",
       "    <tr>\n",
       "      <th>611</th>\n",
       "      <td>0.819328</td>\n",
       "      <td>0.386647</td>\n",
       "      <td>0.882883</td>\n",
       "      <td>0.341691</td>\n",
       "      <td>0.895721</td>\n",
       "      <td>0.334372</td>\n",
       "      <td>512_[512, 256, 128]_0.15000000000000002_SGD_ca...</td>\n",
       "    </tr>\n",
       "    <tr>\n",
       "      <th>612</th>\n",
       "      <td>0.799720</td>\n",
       "      <td>0.425697</td>\n",
       "      <td>0.891892</td>\n",
       "      <td>0.385064</td>\n",
       "      <td>0.895721</td>\n",
       "      <td>0.334372</td>\n",
       "      <td>512_[512, 256, 128]_0.15000000000000002_SGD_ca...</td>\n",
       "    </tr>\n",
       "    <tr>\n",
       "      <th>613</th>\n",
       "      <td>0.787115</td>\n",
       "      <td>0.453379</td>\n",
       "      <td>0.936937</td>\n",
       "      <td>0.238563</td>\n",
       "      <td>0.895721</td>\n",
       "      <td>0.334372</td>\n",
       "      <td>512_[512, 256, 128]_0.15000000000000002_SGD_ca...</td>\n",
       "    </tr>\n",
       "    <tr>\n",
       "      <th>614</th>\n",
       "      <td>0.773109</td>\n",
       "      <td>0.446671</td>\n",
       "      <td>0.891892</td>\n",
       "      <td>0.331657</td>\n",
       "      <td>0.895721</td>\n",
       "      <td>0.334372</td>\n",
       "      <td>512_[512, 256, 128]_0.15000000000000002_SGD_ca...</td>\n",
       "    </tr>\n",
       "  </tbody>\n",
       "</table>\n",
       "</div>"
      ],
      "text/plain": [
       "     train_accuracy  train_loss  val_accuracy  val_loss  average_val_accuracy   \n",
       "610        0.779494    0.462816      0.875000  0.374886              0.895721  \\\n",
       "611        0.819328    0.386647      0.882883  0.341691              0.895721   \n",
       "612        0.799720    0.425697      0.891892  0.385064              0.895721   \n",
       "613        0.787115    0.453379      0.936937  0.238563              0.895721   \n",
       "614        0.773109    0.446671      0.891892  0.331657              0.895721   \n",
       "\n",
       "     average_val_loss                                               name  \n",
       "610          0.334372  512_[512, 256, 128]_0.15000000000000002_SGD_ca...  \n",
       "611          0.334372  512_[512, 256, 128]_0.15000000000000002_SGD_ca...  \n",
       "612          0.334372  512_[512, 256, 128]_0.15000000000000002_SGD_ca...  \n",
       "613          0.334372  512_[512, 256, 128]_0.15000000000000002_SGD_ca...  \n",
       "614          0.334372  512_[512, 256, 128]_0.15000000000000002_SGD_ca...  "
      ]
     },
     "execution_count": 123,
     "metadata": {},
     "output_type": "execute_result"
    }
   ],
   "source": [
    "# Best parameters extraction for NO_OS\n",
    "bp = df.iloc[1]['name'].split('_')\n",
    "loss_text = bp[-5] + '_' + bp[-4] + '_' + bp[-3] if bp[-5] == 'sparse' else bp[-4] + '_' + bp[-3]\n",
    "print(f\"OPTIMIZER='{bp[3]}'\\nLEARNING_RATE={bp[-2]}\\nINPUT_LAYER={bp[0]}\\nHIDDEN_LAYERS={bp[1]}\\nDROPOUT={bp[2]}\\nLOSS='{loss_text}'\")\n",
    "df.head()"
   ]
  },
  {
   "cell_type": "code",
   "execution_count": 124,
   "metadata": {},
   "outputs": [
    {
     "name": "stdout",
     "output_type": "stream",
     "text": [
      "OPTIMIZER='SGD'\n",
      "LEARNING_RATE=0.1\n",
      "INPUT_LAYER=512\n",
      "HIDDEN_LAYERS=[512, 256, 128]\n",
      "DROPOUT=0.05\n",
      "LOSS='categorical_crossentropy'\n"
     ]
    },
    {
     "data": {
      "text/html": [
       "<div>\n",
       "<style scoped>\n",
       "    .dataframe tbody tr th:only-of-type {\n",
       "        vertical-align: middle;\n",
       "    }\n",
       "\n",
       "    .dataframe tbody tr th {\n",
       "        vertical-align: top;\n",
       "    }\n",
       "\n",
       "    .dataframe thead th {\n",
       "        text-align: right;\n",
       "    }\n",
       "</style>\n",
       "<table border=\"1\" class=\"dataframe\">\n",
       "  <thead>\n",
       "    <tr style=\"text-align: right;\">\n",
       "      <th></th>\n",
       "      <th>train_accuracy</th>\n",
       "      <th>train_loss</th>\n",
       "      <th>val_accuracy</th>\n",
       "      <th>val_loss</th>\n",
       "      <th>average_val_accuracy</th>\n",
       "      <th>average_val_loss</th>\n",
       "      <th>name</th>\n",
       "    </tr>\n",
       "  </thead>\n",
       "  <tbody>\n",
       "    <tr>\n",
       "      <th>600</th>\n",
       "      <td>0.733146</td>\n",
       "      <td>0.512683</td>\n",
       "      <td>0.866071</td>\n",
       "      <td>0.412709</td>\n",
       "      <td>0.892133</td>\n",
       "      <td>0.339034</td>\n",
       "      <td>512_[512, 256, 128]_0.05_SGD_categorical_cross...</td>\n",
       "    </tr>\n",
       "    <tr>\n",
       "      <th>601</th>\n",
       "      <td>0.791317</td>\n",
       "      <td>0.438286</td>\n",
       "      <td>0.891892</td>\n",
       "      <td>0.330664</td>\n",
       "      <td>0.892133</td>\n",
       "      <td>0.339034</td>\n",
       "      <td>512_[512, 256, 128]_0.05_SGD_categorical_cross...</td>\n",
       "    </tr>\n",
       "    <tr>\n",
       "      <th>602</th>\n",
       "      <td>0.799720</td>\n",
       "      <td>0.441722</td>\n",
       "      <td>0.882883</td>\n",
       "      <td>0.341178</td>\n",
       "      <td>0.892133</td>\n",
       "      <td>0.339034</td>\n",
       "      <td>512_[512, 256, 128]_0.05_SGD_categorical_cross...</td>\n",
       "    </tr>\n",
       "    <tr>\n",
       "      <th>603</th>\n",
       "      <td>0.787115</td>\n",
       "      <td>0.442593</td>\n",
       "      <td>0.936937</td>\n",
       "      <td>0.252467</td>\n",
       "      <td>0.892133</td>\n",
       "      <td>0.339034</td>\n",
       "      <td>512_[512, 256, 128]_0.05_SGD_categorical_cross...</td>\n",
       "    </tr>\n",
       "    <tr>\n",
       "      <th>604</th>\n",
       "      <td>0.731092</td>\n",
       "      <td>0.542579</td>\n",
       "      <td>0.882883</td>\n",
       "      <td>0.358153</td>\n",
       "      <td>0.892133</td>\n",
       "      <td>0.339034</td>\n",
       "      <td>512_[512, 256, 128]_0.05_SGD_categorical_cross...</td>\n",
       "    </tr>\n",
       "  </tbody>\n",
       "</table>\n",
       "</div>"
      ],
      "text/plain": [
       "     train_accuracy  train_loss  val_accuracy  val_loss  average_val_accuracy   \n",
       "600        0.733146    0.512683      0.866071  0.412709              0.892133  \\\n",
       "601        0.791317    0.438286      0.891892  0.330664              0.892133   \n",
       "602        0.799720    0.441722      0.882883  0.341178              0.892133   \n",
       "603        0.787115    0.442593      0.936937  0.252467              0.892133   \n",
       "604        0.731092    0.542579      0.882883  0.358153              0.892133   \n",
       "\n",
       "     average_val_loss                                               name  \n",
       "600          0.339034  512_[512, 256, 128]_0.05_SGD_categorical_cross...  \n",
       "601          0.339034  512_[512, 256, 128]_0.05_SGD_categorical_cross...  \n",
       "602          0.339034  512_[512, 256, 128]_0.05_SGD_categorical_cross...  \n",
       "603          0.339034  512_[512, 256, 128]_0.05_SGD_categorical_cross...  \n",
       "604          0.339034  512_[512, 256, 128]_0.05_SGD_categorical_cross...  "
      ]
     },
     "execution_count": 124,
     "metadata": {},
     "output_type": "execute_result"
    }
   ],
   "source": [
    "# Best parameters extraction for OS\n",
    "bp = df_os.iloc[1]['name'].split('_')\n",
    "loss_text = bp[-5] + '_' + bp[-4] + '_' + bp[-3] if bp[-5] == 'sparse' else bp[-4] + '_' + bp[-3]\n",
    "print(f\"OPTIMIZER='{bp[3]}'\\nLEARNING_RATE={bp[-2]}\\nINPUT_LAYER={bp[0]}\\nHIDDEN_LAYERS={bp[1]}\\nDROPOUT={bp[2]}\\nLOSS='{loss_text}'\")\n",
    "df_os.head()"
   ]
  }
 ],
 "metadata": {
  "kernelspec": {
   "display_name": "mlp",
   "language": "python",
   "name": "python3"
  },
  "language_info": {
   "codemirror_mode": {
    "name": "ipython",
    "version": 3
   },
   "file_extension": ".py",
   "mimetype": "text/x-python",
   "name": "python",
   "nbconvert_exporter": "python",
   "pygments_lexer": "ipython3",
   "version": "3.8.10"
  },
  "orig_nbformat": 4
 },
 "nbformat": 4,
 "nbformat_minor": 2
}
