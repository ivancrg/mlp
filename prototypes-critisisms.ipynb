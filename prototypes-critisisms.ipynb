{
 "cells": [
  {
   "cell_type": "code",
   "execution_count": 1,
   "id": "4a06624a",
   "metadata": {},
   "outputs": [],
   "source": [
    "import pandas as pd\n",
    "import seaborn as sn\n",
    "import matplotlib.pyplot as plt\n",
    "import numpy as np"
   ]
  },
  {
   "cell_type": "code",
   "execution_count": 2,
   "id": "05947bee",
   "metadata": {},
   "outputs": [],
   "source": [
    "df = pd.read_csv('encoded.csv')"
   ]
  },
  {
   "cell_type": "code",
   "execution_count": 3,
   "id": "a88887cb",
   "metadata": {},
   "outputs": [
    {
     "data": {
      "text/html": [
       "<div>\n",
       "<style scoped>\n",
       "    .dataframe tbody tr th:only-of-type {\n",
       "        vertical-align: middle;\n",
       "    }\n",
       "\n",
       "    .dataframe tbody tr th {\n",
       "        vertical-align: top;\n",
       "    }\n",
       "\n",
       "    .dataframe thead th {\n",
       "        text-align: right;\n",
       "    }\n",
       "</style>\n",
       "<table border=\"1\" class=\"dataframe\">\n",
       "  <thead>\n",
       "    <tr style=\"text-align: right;\">\n",
       "      <th></th>\n",
       "      <th>Age</th>\n",
       "      <th>Gender</th>\n",
       "      <th>Days Abdominal Pain</th>\n",
       "      <th>Temperature</th>\n",
       "      <th>Tenderness</th>\n",
       "      <th>Leukocytes [10^9/l]</th>\n",
       "      <th>CRP [mg/l]</th>\n",
       "      <th>Number of Sonographies preop</th>\n",
       "      <th>Preoperative Diagnosis</th>\n",
       "    </tr>\n",
       "  </thead>\n",
       "  <tbody>\n",
       "    <tr>\n",
       "      <th>0</th>\n",
       "      <td>15</td>\n",
       "      <td>1</td>\n",
       "      <td>1</td>\n",
       "      <td>36.9</td>\n",
       "      <td>1</td>\n",
       "      <td>11.10</td>\n",
       "      <td>6.0</td>\n",
       "      <td>1</td>\n",
       "      <td>0</td>\n",
       "    </tr>\n",
       "    <tr>\n",
       "      <th>1</th>\n",
       "      <td>14</td>\n",
       "      <td>0</td>\n",
       "      <td>2</td>\n",
       "      <td>37.0</td>\n",
       "      <td>1</td>\n",
       "      <td>21.28</td>\n",
       "      <td>30.8</td>\n",
       "      <td>1</td>\n",
       "      <td>0</td>\n",
       "    </tr>\n",
       "    <tr>\n",
       "      <th>2</th>\n",
       "      <td>16</td>\n",
       "      <td>0</td>\n",
       "      <td>0</td>\n",
       "      <td>36.9</td>\n",
       "      <td>0</td>\n",
       "      <td>13.07</td>\n",
       "      <td>1.9</td>\n",
       "      <td>1</td>\n",
       "      <td>0</td>\n",
       "    </tr>\n",
       "    <tr>\n",
       "      <th>3</th>\n",
       "      <td>14</td>\n",
       "      <td>0</td>\n",
       "      <td>1</td>\n",
       "      <td>35.7</td>\n",
       "      <td>0</td>\n",
       "      <td>7.95</td>\n",
       "      <td>0.0</td>\n",
       "      <td>2</td>\n",
       "      <td>0</td>\n",
       "    </tr>\n",
       "    <tr>\n",
       "      <th>4</th>\n",
       "      <td>16</td>\n",
       "      <td>1</td>\n",
       "      <td>7</td>\n",
       "      <td>37.9</td>\n",
       "      <td>1</td>\n",
       "      <td>14.82</td>\n",
       "      <td>14.4</td>\n",
       "      <td>3</td>\n",
       "      <td>0</td>\n",
       "    </tr>\n",
       "  </tbody>\n",
       "</table>\n",
       "</div>"
      ],
      "text/plain": [
       "   Age  Gender  Days Abdominal Pain  Temperature  Tenderness   \n",
       "0   15       1                    1         36.9           1  \\\n",
       "1   14       0                    2         37.0           1   \n",
       "2   16       0                    0         36.9           0   \n",
       "3   14       0                    1         35.7           0   \n",
       "4   16       1                    7         37.9           1   \n",
       "\n",
       "   Leukocytes [10^9/l]  CRP [mg/l]  Number of Sonographies preop   \n",
       "0                11.10         6.0                             1  \\\n",
       "1                21.28        30.8                             1   \n",
       "2                13.07         1.9                             1   \n",
       "3                 7.95         0.0                             2   \n",
       "4                14.82        14.4                             3   \n",
       "\n",
       "   Preoperative Diagnosis  \n",
       "0                       0  \n",
       "1                       0  \n",
       "2                       0  \n",
       "3                       0  \n",
       "4                       0  "
      ]
     },
     "execution_count": 3,
     "metadata": {},
     "output_type": "execute_result"
    }
   ],
   "source": [
    "df.head()"
   ]
  },
  {
   "cell_type": "code",
   "execution_count": 4,
   "id": "9eea7823",
   "metadata": {},
   "outputs": [
    {
     "name": "stdout",
     "output_type": "stream",
     "text": [
      "Age                               int64\n",
      "Gender                            int64\n",
      "Days Abdominal Pain               int64\n",
      "Temperature                     float64\n",
      "Tenderness                        int64\n",
      "Leukocytes [10^9/l]             float64\n",
      "CRP [mg/l]                      float64\n",
      "Number of Sonographies preop      int64\n",
      "Preoperative Diagnosis            int64\n",
      "dtype: object\n"
     ]
    }
   ],
   "source": [
    "print(df.dtypes)"
   ]
  },
  {
   "cell_type": "code",
   "execution_count": 5,
   "id": "449eb609",
   "metadata": {},
   "outputs": [
    {
     "ename": "SyntaxError",
     "evalue": "unexpected EOF while parsing (1121874355.py, line 2)",
     "output_type": "error",
     "traceback": [
      "\u001b[1;36m  Cell \u001b[1;32mIn[5], line 2\u001b[1;36m\u001b[0m\n\u001b[1;33m    \u001b[0m\n\u001b[1;37m    ^\u001b[0m\n\u001b[1;31mSyntaxError\u001b[0m\u001b[1;31m:\u001b[0m unexpected EOF while parsing\n"
     ]
    }
   ],
   "source": [
    "def mmd(X, protoypes, gamma):\n",
    "    "
   ]
  },
  {
   "cell_type": "code",
   "execution_count": null,
   "id": "32ea3708",
   "metadata": {},
   "outputs": [],
   "source": [
    "def get_prototype(X, protoypes, gamma):\n",
    "    cur_mmd = mmd(X, prototypes, gamma)\n",
    "    decrease_mmd = float('-inf')\n",
    "    \n",
    "    \n",
    "    "
   ]
  },
  {
   "cell_type": "code",
   "execution_count": 11,
   "id": "bcdf6a92",
   "metadata": {},
   "outputs": [
    {
     "data": {
      "text/plain": [
       "-inf"
      ]
     },
     "execution_count": 11,
     "metadata": {},
     "output_type": "execute_result"
    }
   ],
   "source": [
    "float('-inf')"
   ]
  },
  {
   "cell_type": "code",
   "execution_count": 13,
   "id": "a6836499",
   "metadata": {},
   "outputs": [],
   "source": [
    "def find_prototypes(X, m=10, gamma=0.1):\n",
    "    chosen = pd.DataFrame()\n",
    "    \n",
    "    while chosen.shape[0] < m:\n",
    "        chosen.append(get_prototype(X, chosen, gamma))\n",
    "    \n",
    "    print(chosen)"
   ]
  },
  {
   "cell_type": "code",
   "execution_count": 14,
   "id": "d3ed4ac1",
   "metadata": {},
   "outputs": [
    {
     "ename": "TypeError",
     "evalue": "find_prototypes() missing 1 required positional argument: 'X'",
     "output_type": "error",
     "traceback": [
      "\u001b[1;31m---------------------------------------------------------------------------\u001b[0m",
      "\u001b[1;31mTypeError\u001b[0m                                 Traceback (most recent call last)",
      "Cell \u001b[1;32mIn[14], line 1\u001b[0m\n\u001b[1;32m----> 1\u001b[0m \u001b[43mfind_prototypes\u001b[49m\u001b[43m(\u001b[49m\u001b[43m)\u001b[49m\n",
      "\u001b[1;31mTypeError\u001b[0m: find_prototypes() missing 1 required positional argument: 'X'"
     ]
    }
   ],
   "source": [
    "find_prototypes()"
   ]
  },
  {
   "cell_type": "code",
   "execution_count": null,
   "id": "776e202d",
   "metadata": {},
   "outputs": [],
   "source": []
  }
 ],
 "metadata": {
  "kernelspec": {
   "display_name": "Python 3 (ipykernel)",
   "language": "python",
   "name": "python3"
  },
  "language_info": {
   "codemirror_mode": {
    "name": "ipython",
    "version": 3
   },
   "file_extension": ".py",
   "mimetype": "text/x-python",
   "name": "python",
   "nbconvert_exporter": "python",
   "pygments_lexer": "ipython3",
   "version": "3.8.10"
  }
 },
 "nbformat": 4,
 "nbformat_minor": 5
}
