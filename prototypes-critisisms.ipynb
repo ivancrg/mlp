{
 "cells": [
  {
   "cell_type": "code",
   "execution_count": 15,
   "id": "4a06624a",
   "metadata": {},
   "outputs": [],
   "source": [
    "import pandas as pd\n",
    "import seaborn as sn\n",
    "import matplotlib.pyplot as plt\n",
    "import numpy as np\n",
    "import time"
   ]
  },
  {
   "cell_type": "code",
   "execution_count": 2,
   "id": "05947bee",
   "metadata": {},
   "outputs": [],
   "source": [
    "df = pd.read_csv('encoded.csv')"
   ]
  },
  {
   "cell_type": "code",
   "execution_count": 3,
   "id": "a88887cb",
   "metadata": {},
   "outputs": [
    {
     "data": {
      "text/html": [
       "<div>\n",
       "<style scoped>\n",
       "    .dataframe tbody tr th:only-of-type {\n",
       "        vertical-align: middle;\n",
       "    }\n",
       "\n",
       "    .dataframe tbody tr th {\n",
       "        vertical-align: top;\n",
       "    }\n",
       "\n",
       "    .dataframe thead th {\n",
       "        text-align: right;\n",
       "    }\n",
       "</style>\n",
       "<table border=\"1\" class=\"dataframe\">\n",
       "  <thead>\n",
       "    <tr style=\"text-align: right;\">\n",
       "      <th></th>\n",
       "      <th>Age</th>\n",
       "      <th>Gender</th>\n",
       "      <th>Days Abdominal Pain</th>\n",
       "      <th>Temperature</th>\n",
       "      <th>Tenderness</th>\n",
       "      <th>Leukocytes [10^9/l]</th>\n",
       "      <th>CRP [mg/l]</th>\n",
       "      <th>Number of Sonographies preop</th>\n",
       "      <th>Preoperative Diagnosis</th>\n",
       "    </tr>\n",
       "  </thead>\n",
       "  <tbody>\n",
       "    <tr>\n",
       "      <th>0</th>\n",
       "      <td>15</td>\n",
       "      <td>1</td>\n",
       "      <td>1</td>\n",
       "      <td>36.9</td>\n",
       "      <td>1</td>\n",
       "      <td>11.10</td>\n",
       "      <td>6.0</td>\n",
       "      <td>1</td>\n",
       "      <td>0</td>\n",
       "    </tr>\n",
       "    <tr>\n",
       "      <th>1</th>\n",
       "      <td>14</td>\n",
       "      <td>0</td>\n",
       "      <td>2</td>\n",
       "      <td>37.0</td>\n",
       "      <td>1</td>\n",
       "      <td>21.28</td>\n",
       "      <td>30.8</td>\n",
       "      <td>1</td>\n",
       "      <td>0</td>\n",
       "    </tr>\n",
       "    <tr>\n",
       "      <th>2</th>\n",
       "      <td>16</td>\n",
       "      <td>0</td>\n",
       "      <td>0</td>\n",
       "      <td>36.9</td>\n",
       "      <td>0</td>\n",
       "      <td>13.07</td>\n",
       "      <td>1.9</td>\n",
       "      <td>1</td>\n",
       "      <td>0</td>\n",
       "    </tr>\n",
       "    <tr>\n",
       "      <th>3</th>\n",
       "      <td>14</td>\n",
       "      <td>0</td>\n",
       "      <td>1</td>\n",
       "      <td>35.7</td>\n",
       "      <td>0</td>\n",
       "      <td>7.95</td>\n",
       "      <td>0.0</td>\n",
       "      <td>2</td>\n",
       "      <td>0</td>\n",
       "    </tr>\n",
       "    <tr>\n",
       "      <th>4</th>\n",
       "      <td>16</td>\n",
       "      <td>1</td>\n",
       "      <td>7</td>\n",
       "      <td>37.9</td>\n",
       "      <td>1</td>\n",
       "      <td>14.82</td>\n",
       "      <td>14.4</td>\n",
       "      <td>3</td>\n",
       "      <td>0</td>\n",
       "    </tr>\n",
       "  </tbody>\n",
       "</table>\n",
       "</div>"
      ],
      "text/plain": [
       "   Age  Gender  Days Abdominal Pain  Temperature  Tenderness   \n",
       "0   15       1                    1         36.9           1  \\\n",
       "1   14       0                    2         37.0           1   \n",
       "2   16       0                    0         36.9           0   \n",
       "3   14       0                    1         35.7           0   \n",
       "4   16       1                    7         37.9           1   \n",
       "\n",
       "   Leukocytes [10^9/l]  CRP [mg/l]  Number of Sonographies preop   \n",
       "0                11.10         6.0                             1  \\\n",
       "1                21.28        30.8                             1   \n",
       "2                13.07         1.9                             1   \n",
       "3                 7.95         0.0                             2   \n",
       "4                14.82        14.4                             3   \n",
       "\n",
       "   Preoperative Diagnosis  \n",
       "0                       0  \n",
       "1                       0  \n",
       "2                       0  \n",
       "3                       0  \n",
       "4                       0  "
      ]
     },
     "execution_count": 3,
     "metadata": {},
     "output_type": "execute_result"
    }
   ],
   "source": [
    "df.head()"
   ]
  },
  {
   "cell_type": "code",
   "execution_count": 4,
   "id": "9eea7823",
   "metadata": {},
   "outputs": [
    {
     "name": "stdout",
     "output_type": "stream",
     "text": [
      "Age                               int64\n",
      "Gender                            int64\n",
      "Days Abdominal Pain               int64\n",
      "Temperature                     float64\n",
      "Tenderness                        int64\n",
      "Leukocytes [10^9/l]             float64\n",
      "CRP [mg/l]                      float64\n",
      "Number of Sonographies preop      int64\n",
      "Preoperative Diagnosis            int64\n",
      "dtype: object\n"
     ]
    }
   ],
   "source": [
    "print(df.dtypes)"
   ]
  },
  {
   "cell_type": "code",
   "execution_count": 5,
   "id": "3c09996a",
   "metadata": {},
   "outputs": [],
   "source": [
    "# Kernel function that measures the\n",
    "# similarity of two datapoints\n",
    "\n",
    "def k(xi, xj, gamma):\n",
    "    # Converting from Series to np object\n",
    "    # For computing Euclidean distance\n",
    "    xi = xi.to_numpy()\n",
    "    xj = xj.to_numpy()\n",
    "    \n",
    "    # Returns the value of RBF kernel\n",
    "    return np.exp(-gamma * np.linalg.norm(xi - xj))"
   ]
  },
  {
   "cell_type": "code",
   "execution_count": 29,
   "id": "449eb609",
   "metadata": {},
   "outputs": [],
   "source": [
    "# Computes mmd^2 using list of datapoints,\n",
    "# prototypes and hyperparameter gamma\n",
    "\n",
    "def mmd(X, prototypes, gamma):\n",
    "    m = len(X.index)\n",
    "    n = len(prototypes.index)\n",
    "    \n",
    "    # Sum of protoype proximities\n",
    "    spp = 0.0\n",
    "    for i in prototypes.index:\n",
    "        for j in prototypes.index:\n",
    "            spp += k(prototypes.loc[i], prototypes.loc[j], gamma)\n",
    "    \n",
    "    # Sum of prototype-datapoint proximities\n",
    "    spdp = 0.0\n",
    "    for i in prototypes.index:\n",
    "        for j in X.index:\n",
    "            spdp += k(prototypes.loc[i], X.loc[j], gamma)\n",
    "            \n",
    "    # Sum of datapoint proximities\n",
    "    sdp = 0.0\n",
    "    #t = time.time()\n",
    "    for i in X.index:\n",
    "        #print(i)\n",
    "        for j in X.index:\n",
    "            sdp += k(X.loc[i], X.loc[j], gamma)\n",
    "    #print(time.time() - t)\n",
    "    #print(sdp)\n",
    "    \n",
    "    #t = time.time()\n",
    "    \n",
    "    #sdp = np.sum([[k(X.loc[i], X.loc[j], gamma) for j in X.index] for i in X.index])\n",
    "    \n",
    "    #print(time.time() - t)\n",
    "    #print(sdp)\n",
    "    \n",
    "    # Averaging proximities to compute mmd^2\n",
    "    mmd2 = 1/(m**2) * spp - 2/(m*n) * spdp + 1/(n**2) * sdp\n",
    "    \n",
    "    return mmd2"
   ]
  },
  {
   "cell_type": "code",
   "execution_count": 27,
   "id": "32ea3708",
   "metadata": {},
   "outputs": [],
   "source": [
    "# Adds a prototype to list prototypes\n",
    "# using the datapoints from list X\n",
    "\n",
    "def add_prototype(X, prototypes, gamma):\n",
    "    min_mmd = float('+inf')\n",
    "    \n",
    "    # Best prototype index (lowers mmd most)\n",
    "    bpi = 0\n",
    "    \n",
    "    for i in X.index:\n",
    "        # Creating a copy of datapoints and prototypes\n",
    "        Xi = X.copy()\n",
    "        pi = prototypes.copy()\n",
    "        \n",
    "        # Making ith datapoint a prototype\n",
    "        pi.loc[len(pi.index)] = Xi.loc[i]\n",
    "        Xi = Xi.drop(i)\n",
    "        \n",
    "        # Calculating mmd of new prototype list\n",
    "        mmd_i = mmd(Xi, pi, gamma)\n",
    "        \n",
    "        #################################\n",
    "        # break\n",
    "        #################################\n",
    "        \n",
    "        # Checking if new mmd is lower\n",
    "        if mmd_i < min_mmd:\n",
    "            min_mmd = mmd_i\n",
    "            bpi = i\n",
    "    \n",
    "    # Making bpith datapoint a prototype in source lists\n",
    "    prototypes.loc[len(prototypes.index)] = X.loc[bpi]\n",
    "    X = X.drop(bpi)"
   ]
  },
  {
   "cell_type": "code",
   "execution_count": 28,
   "id": "a6836499",
   "metadata": {},
   "outputs": [],
   "source": [
    "# Finds m prototypes from dataset X\n",
    "# Hyperparameters m and gamma\n",
    "\n",
    "def find_prototypes(X, m=10, gamma=0.1):\n",
    "    # List of chosen prototypes\n",
    "    cp = pd.DataFrame().reindex_like(X)\n",
    "    cp = cp.iloc[0:0]\n",
    "    \n",
    "    \n",
    "    # While number of prototypes is under m, find another\n",
    "    while cp.shape[0] < m:\n",
    "        add_prototype(X, cp, gamma)\n",
    "        print(f'Added a prototype: {cp.loc[len(cp.index) - 1]}')\n",
    "        ############################\n",
    "        # break\n",
    "    \n",
    "    return cp"
   ]
  },
  {
   "cell_type": "code",
   "execution_count": 25,
   "id": "d3ed4ac1",
   "metadata": {},
   "outputs": [
    {
     "name": "stdout",
     "output_type": "stream",
     "text": [
      "15.931504011154175\n",
      "24356.4416582303\n",
      "15.77980351448059\n",
      "24356.441658230902\n",
      "Added a prototype: Age                             15.0\n",
      "Gender                           1.0\n",
      "Days Abdominal Pain              1.0\n",
      "Temperature                     36.9\n",
      "Tenderness                       1.0\n",
      "Leukocytes [10^9/l]             11.1\n",
      "CRP [mg/l]                       6.0\n",
      "Number of Sonographies preop     1.0\n",
      "Preoperative Diagnosis           0.0\n",
      "Name: 0, dtype: float64\n"
     ]
    }
   ],
   "source": [
    "prototypes = find_prototypes(df.copy())"
   ]
  },
  {
   "cell_type": "code",
   "execution_count": 96,
   "id": "776e202d",
   "metadata": {},
   "outputs": [
    {
     "name": "stdout",
     "output_type": "stream",
     "text": [
      "     Age  Gender  Days Abdominal Pain  Temperature  Tenderness   \n",
      "0    NaN     NaN                  NaN          NaN         NaN  \\\n",
      "1    NaN     NaN                  NaN          NaN         NaN   \n",
      "2    NaN     NaN                  NaN          NaN         NaN   \n",
      "3    NaN     NaN                  NaN          NaN         NaN   \n",
      "4    NaN     NaN                  NaN          NaN         NaN   \n",
      "..   ...     ...                  ...          ...         ...   \n",
      "419  NaN     NaN                  NaN          NaN         NaN   \n",
      "420  NaN     NaN                  NaN          NaN         NaN   \n",
      "421  NaN     NaN                  NaN          NaN         NaN   \n",
      "422  NaN     NaN                  NaN          NaN         NaN   \n",
      "423  NaN     NaN                  NaN          NaN         NaN   \n",
      "\n",
      "     Leukocytes [10^9/l]  CRP [mg/l]  Number of Sonographies preop   \n",
      "0                    NaN         NaN                           NaN  \\\n",
      "1                    NaN         NaN                           NaN   \n",
      "2                    NaN         NaN                           NaN   \n",
      "3                    NaN         NaN                           NaN   \n",
      "4                    NaN         NaN                           NaN   \n",
      "..                   ...         ...                           ...   \n",
      "419                  NaN         NaN                           NaN   \n",
      "420                  NaN         NaN                           NaN   \n",
      "421                  NaN         NaN                           NaN   \n",
      "422                  NaN         NaN                           NaN   \n",
      "423                  NaN         NaN                           NaN   \n",
      "\n",
      "     Preoperative Diagnosis  \n",
      "0                       NaN  \n",
      "1                       NaN  \n",
      "2                       NaN  \n",
      "3                       NaN  \n",
      "4                       NaN  \n",
      "..                      ...  \n",
      "419                     NaN  \n",
      "420                     NaN  \n",
      "421                     NaN  \n",
      "422                     NaN  \n",
      "423                     NaN  \n",
      "\n",
      "[424 rows x 9 columns]\n"
     ]
    }
   ],
   "source": [
    "print(prototypes)"
   ]
  },
  {
   "cell_type": "code",
   "execution_count": 20,
   "id": "220d0896",
   "metadata": {},
   "outputs": [
    {
     "data": {
      "text/plain": [
       "1684149707.2526317"
      ]
     },
     "execution_count": 20,
     "metadata": {},
     "output_type": "execute_result"
    }
   ],
   "source": [
    "time.time()"
   ]
  },
  {
   "cell_type": "code",
   "execution_count": null,
   "id": "134c33f8",
   "metadata": {},
   "outputs": [],
   "source": []
  }
 ],
 "metadata": {
  "kernelspec": {
   "display_name": "Python 3 (ipykernel)",
   "language": "python",
   "name": "python3"
  },
  "language_info": {
   "codemirror_mode": {
    "name": "ipython",
    "version": 3
   },
   "file_extension": ".py",
   "mimetype": "text/x-python",
   "name": "python",
   "nbconvert_exporter": "python",
   "pygments_lexer": "ipython3",
   "version": "3.8.10"
  }
 },
 "nbformat": 4,
 "nbformat_minor": 5
}
